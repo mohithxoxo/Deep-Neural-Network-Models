{
  "nbformat": 4,
  "nbformat_minor": 0,
  "metadata": {
    "colab": {
      "name": "yolo v3 (1) .ipynb",
      "provenance": [],
      "authorship_tag": "ABX9TyPgyhXZ416jDT/f2hYjrICz"
    },
    "kernelspec": {
      "name": "python3",
      "display_name": "Python 3"
    }
  },
  "cells": [
    {
      "cell_type": "code",
      "metadata": {
        "id": "Le02qpVbKBBd",
        "colab_type": "code",
        "colab": {
          "base_uri": "https://localhost:8080/",
          "height": 301
        },
        "outputId": "e2af9342-bcd6-46ec-c3bd-28373ce8e8e8"
      },
      "source": [
        "!wget https://github.com/x4nth055/pythoncode-tutorials/archive/master.zip"
      ],
      "execution_count": 1,
      "outputs": [
        {
          "output_type": "stream",
          "text": [
            "--2020-03-24 06:08:45--  https://github.com/x4nth055/pythoncode-tutorials/archive/master.zip\n",
            "Resolving github.com (github.com)... 140.82.112.3\n",
            "Connecting to github.com (github.com)|140.82.112.3|:443... connected.\n",
            "HTTP request sent, awaiting response... 302 Found\n",
            "Location: https://codeload.github.com/x4nth055/pythoncode-tutorials/zip/master [following]\n",
            "--2020-03-24 06:08:45--  https://codeload.github.com/x4nth055/pythoncode-tutorials/zip/master\n",
            "Resolving codeload.github.com (codeload.github.com)... 140.82.112.10\n",
            "Connecting to codeload.github.com (codeload.github.com)|140.82.112.10|:443... connected.\n",
            "HTTP request sent, awaiting response... 200 OK\n",
            "Length: unspecified [application/zip]\n",
            "Saving to: ‘master.zip’\n",
            "\n",
            "master.zip              [    <=>             ] 177.47M  10.9MB/s    in 20s     \n",
            "\n",
            "2020-03-24 06:09:05 (8.92 MB/s) - ‘master.zip’ saved [186093848]\n",
            "\n"
          ],
          "name": "stdout"
        }
      ]
    },
    {
      "cell_type": "code",
      "metadata": {
        "id": "zG8-MmcdKr-s",
        "colab_type": "code",
        "colab": {
          "base_uri": "https://localhost:8080/",
          "height": 212
        },
        "outputId": "3a3d9483-a9d8-47fd-b8d7-bae67eb67244"
      },
      "source": [
        "!wget https://pjreddie.com/media/files/yolov3.weights"
      ],
      "execution_count": 4,
      "outputs": [
        {
          "output_type": "stream",
          "text": [
            "--2020-03-24 06:11:33--  https://pjreddie.com/media/files/yolov3.weights\n",
            "Resolving pjreddie.com (pjreddie.com)... 128.208.4.108\n",
            "Connecting to pjreddie.com (pjreddie.com)|128.208.4.108|:443... connected.\n",
            "HTTP request sent, awaiting response... 200 OK\n",
            "Length: 248007048 (237M) [application/octet-stream]\n",
            "Saving to: ‘yolov3.weights’\n",
            "\n",
            "yolov3.weights      100%[===================>] 236.52M  5.07MB/s    in 86s     \n",
            "\n",
            "2020-03-24 06:12:59 (2.77 MB/s) - ‘yolov3.weights’ saved [248007048/248007048]\n",
            "\n"
          ],
          "name": "stdout"
        }
      ]
    },
    {
      "cell_type": "code",
      "metadata": {
        "id": "xRoKCFpXKZ5w",
        "colab_type": "code",
        "colab": {}
      },
      "source": [
        "import cv2\n",
        "import numpy as np\n",
        "\n",
        "import time\n",
        "import sys\n",
        "import os"
      ],
      "execution_count": 0,
      "outputs": []
    },
    {
      "cell_type": "code",
      "metadata": {
        "id": "dVTzpdTiKfTK",
        "colab_type": "code",
        "colab": {}
      },
      "source": [
        "CONFIDENCE = 0.5\n",
        "SCORE_THRESHOLD = 0.5\n",
        "IOU_THRESHOLD = 0.5\n",
        "\n",
        "# the neural network configuration\n",
        "config_path = \"/content/pythoncode-tutorials-master/machine-learning/object-detection/cfg/yolov3.cfg\"\n",
        "# the YOLO net weights file\n",
        "weights_path = \"/content/yolov3.weights\"\n",
        "# weights_path = \"weights/yolov3-tiny.weights\"\n",
        "\n",
        "# loading all the class labels (objects)\n",
        "labels = open(\"/content/pythoncode-tutorials-master/machine-learning/object-detection/data/coco.names\").read().strip().split(\"\\n\")\n",
        "# generating colors for each object for later plotting\n",
        "colors = np.random.randint(0, 255, size=(len(labels), 3), dtype=\"uint8\")"
      ],
      "execution_count": 0,
      "outputs": []
    },
    {
      "cell_type": "code",
      "metadata": {
        "id": "raYDrrAYLI5z",
        "colab_type": "code",
        "colab": {}
      },
      "source": [
        "# load the YOLO network\n",
        "net = cv2.dnn.readNetFromDarknet(config_path, weights_path)"
      ],
      "execution_count": 0,
      "outputs": []
    },
    {
      "cell_type": "code",
      "metadata": {
        "id": "QfNw5IWYLiX4",
        "colab_type": "code",
        "colab": {}
      },
      "source": [
        "path_name = \"/content/pythoncode-tutorials-master/machine-learning/object-detection/images/nathan-rogers-jMmv6HhHb0k-unsplash.jpg\"\n",
        "image = cv2.imread(path_name)\n",
        "file_name = os.path.basename(path_name)\n",
        "filename, ext = file_name.split(\".\")"
      ],
      "execution_count": 0,
      "outputs": []
    },
    {
      "cell_type": "code",
      "metadata": {
        "id": "qSzhSbyVLp8K",
        "colab_type": "code",
        "colab": {}
      },
      "source": [
        "h, w = image.shape[:2]\n",
        "# create 4D blob\n",
        "blob = cv2.dnn.blobFromImage(image, 1/255.0, (416, 416), swapRB=True, crop=False)"
      ],
      "execution_count": 0,
      "outputs": []
    },
    {
      "cell_type": "code",
      "metadata": {
        "id": "XL4XTmBsLtyy",
        "colab_type": "code",
        "colab": {
          "base_uri": "https://localhost:8080/",
          "height": 52
        },
        "outputId": "0dc663ae-60d2-4910-f960-67bfc607765a"
      },
      "source": [
        "print(\"image.shape:\", image.shape)\n",
        "print(\"blob.shape:\", blob.shape)"
      ],
      "execution_count": 19,
      "outputs": [
        {
          "output_type": "stream",
          "text": [
            "image.shape: (853, 1137, 3)\n",
            "blob.shape: (1, 3, 416, 416)\n"
          ],
          "name": "stdout"
        }
      ]
    },
    {
      "cell_type": "code",
      "metadata": {
        "id": "oA7wSfQcLx8P",
        "colab_type": "code",
        "colab": {
          "base_uri": "https://localhost:8080/",
          "height": 34
        },
        "outputId": "12c24934-e60e-4d1d-905f-cdfa70f5bf09"
      },
      "source": [
        "# sets the blob as the input of the network\n",
        "net.setInput(blob)\n",
        "# get all the layer names\n",
        "ln = net.getLayerNames()\n",
        "ln = [ln[i[0] - 1] for i in net.getUnconnectedOutLayers()]\n",
        "# feed forward (inference) and get the network output\n",
        "# measure how much it took in seconds\n",
        "start = time.perf_counter()\n",
        "layer_outputs = net.forward(ln)\n",
        "time_took = time.perf_counter() - start\n",
        "print(f\"Time took: {time_took:.2f}s\")"
      ],
      "execution_count": 20,
      "outputs": [
        {
          "output_type": "stream",
          "text": [
            "Time took: 1.88s\n"
          ],
          "name": "stdout"
        }
      ]
    },
    {
      "cell_type": "code",
      "metadata": {
        "id": "E32ZcqkGL4Ga",
        "colab_type": "code",
        "colab": {}
      },
      "source": [
        "font_scale = 1\n",
        "thickness = 1\n",
        "boxes, confidences, class_ids = [], [], []\n",
        "# loop over each of the layer outputs\n",
        "for output in layer_outputs:\n",
        "    # loop over each of the object detections\n",
        "    for detection in output:\n",
        "        # extract the class id (label) and confidence (as a probability) of\n",
        "        # the current object detection\n",
        "        scores = detection[5:]\n",
        "        class_id = np.argmax(scores)\n",
        "        confidence = scores[class_id]\n",
        "        # discard out weak predictions by ensuring the detected\n",
        "        # probability is greater than the minimum probability\n",
        "        if confidence > CONFIDENCE:\n",
        "            # scale the bounding box coordinates back relative to the\n",
        "            # size of the image, keeping in mind that YOLO actually\n",
        "            # returns the center (x, y)-coordinates of the bounding\n",
        "            # box followed by the boxes' width and height\n",
        "            box = detection[:4] * np.array([w, h, w, h])\n",
        "            (centerX, centerY, width, height) = box.astype(\"int\")\n",
        "            # use the center (x, y)-coordinates to derive the top and\n",
        "            # and left corner of the bounding box\n",
        "            x = int(centerX - (width / 2))\n",
        "            y = int(centerY - (height / 2))\n",
        "            # update our list of bounding box coordinates, confidences,\n",
        "            # and class IDs\n",
        "            boxes.append([x, y, int(width), int(height)])\n",
        "            confidences.append(float(confidence))\n",
        "            class_ids.append(class_id)"
      ],
      "execution_count": 0,
      "outputs": []
    },
    {
      "cell_type": "code",
      "metadata": {
        "id": "byd-FtRJME9l",
        "colab_type": "code",
        "colab": {
          "base_uri": "https://localhost:8080/",
          "height": 34
        },
        "outputId": "2d76929b-6cfb-4f67-f9a8-5eedcb30d3ac"
      },
      "source": [
        "print(detection.shape)"
      ],
      "execution_count": 22,
      "outputs": [
        {
          "output_type": "stream",
          "text": [
            "(85,)\n"
          ],
          "name": "stdout"
        }
      ]
    },
    {
      "cell_type": "code",
      "metadata": {
        "id": "qzt8gEHQMGEa",
        "colab_type": "code",
        "colab": {}
      },
      "source": [
        "# loop over the indexes we are keeping\n",
        "for i in range(len(boxes)):\n",
        "    # extract the bounding box coordinates\n",
        "    x, y = boxes[i][0], boxes[i][1]\n",
        "    w, h = boxes[i][2], boxes[i][3]\n",
        "    # draw a bounding box rectangle and label on the image\n",
        "    color = [int(c) for c in colors[class_ids[i]]]\n",
        "    cv2.rectangle(image, (x, y), (x + w, y + h), color=color, thickness=thickness)\n",
        "    text = f\"{labels[class_ids[i]]}: {confidences[i]:.2f}\"\n",
        "    # calculate text width & height to draw the transparent boxes as background of the text\n",
        "    (text_width, text_height) = cv2.getTextSize(text, cv2.FONT_HERSHEY_SIMPLEX, fontScale=font_scale, thickness=thickness)[0]\n",
        "    text_offset_x = x\n",
        "    text_offset_y = y - 5\n",
        "    box_coords = ((text_offset_x, text_offset_y), (text_offset_x + text_width + 2, text_offset_y - text_height))\n",
        "    overlay = image.copy()\n",
        "    cv2.rectangle(overlay, box_coords[0], box_coords[1], color=color, thickness=cv2.FILLED)\n",
        "    # add opacity (transparency to the box)\n",
        "    image = cv2.addWeighted(overlay, 0.6, image, 0.4, 0)\n",
        "    # now put the text (label: confidence %)\n",
        "    cv2.putText(image, text, (x, y - 5), cv2.FONT_HERSHEY_SIMPLEX,\n",
        "        fontScale=font_scale, color=(0, 0, 0), thickness=thickness)"
      ],
      "execution_count": 0,
      "outputs": []
    },
    {
      "cell_type": "code",
      "metadata": {
        "id": "ezQrfRfiMLRp",
        "colab_type": "code",
        "colab": {
          "base_uri": "https://localhost:8080/",
          "height": 34
        },
        "outputId": "a91ddf32-9f09-4dfa-e842-6e4712798abc"
      },
      "source": [
        "cv2.imwrite(filename + \"_yolo3.\" + ext, image)"
      ],
      "execution_count": 24,
      "outputs": [
        {
          "output_type": "execute_result",
          "data": {
            "text/plain": [
              "True"
            ]
          },
          "metadata": {
            "tags": []
          },
          "execution_count": 24
        }
      ]
    },
    {
      "cell_type": "code",
      "metadata": {
        "id": "rUNGc39OMPIU",
        "colab_type": "code",
        "colab": {}
      },
      "source": [
        ""
      ],
      "execution_count": 0,
      "outputs": []
    }
  ]
}