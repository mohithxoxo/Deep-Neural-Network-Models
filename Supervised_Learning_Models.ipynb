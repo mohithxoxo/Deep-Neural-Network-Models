{
  "nbformat": 4,
  "nbformat_minor": 0,
  "metadata": {
    "colab": {
      "name": "Supervised Learning Models.ipynb",
      "provenance": [],
      "collapsed_sections": [],
      "authorship_tag": "ABX9TyPV4KJe86+tOQff8r8YnyJS"
    },
    "kernelspec": {
      "name": "python3",
      "display_name": "Python 3"
    }
  },
  "cells": [
    {
      "cell_type": "code",
      "metadata": {
        "id": "D52QnN2pmUHX",
        "colab_type": "code",
        "colab": {}
      },
      "source": [
        "import sklearn.datasets as skd\n",
        "import numpy as np\n",
        "import pandas as pd"
      ],
      "execution_count": 0,
      "outputs": []
    },
    {
      "cell_type": "code",
      "metadata": {
        "id": "4TsM81akocok",
        "colab_type": "code",
        "colab": {}
      },
      "source": [
        "diabetes = skd.load_diabetes\n",
        "diabetes  = diabetes()"
      ],
      "execution_count": 0,
      "outputs": []
    },
    {
      "cell_type": "code",
      "metadata": {
        "id": "cWRr9exDo3AL",
        "colab_type": "code",
        "outputId": "e79fd557-7082-4095-c6ec-c8216dd0ac0f",
        "colab": {
          "base_uri": "https://localhost:8080/",
          "height": 34
        }
      },
      "source": [
        "X = diabetes.data\n",
        "Y = diabetes.target\n",
        "print(X.shape,Y.shape)"
      ],
      "execution_count": 0,
      "outputs": [
        {
          "output_type": "stream",
          "text": [
            "(442, 10) (442,)\n"
          ],
          "name": "stdout"
        }
      ]
    },
    {
      "cell_type": "code",
      "metadata": {
        "id": "yxA1S_HspGLA",
        "colab_type": "code",
        "outputId": "4784db18-8269-44d9-85c8-39306e73a4df",
        "colab": {
          "base_uri": "https://localhost:8080/",
          "height": 299
        }
      },
      "source": [
        "import matplotlib.pyplot as plt\n",
        "plt.scatter(diabetes.target,diabetes.target) #linear "
      ],
      "execution_count": 0,
      "outputs": [
        {
          "output_type": "execute_result",
          "data": {
            "text/plain": [
              "<matplotlib.collections.PathCollection at 0x7f95cb48c080>"
            ]
          },
          "metadata": {
            "tags": []
          },
          "execution_count": 175
        },
        {
          "output_type": "display_data",
          "data": {
            "image/png": "[encoded data removed]",
            "text/plain": [
              "<Figure size 432x288 with 1 Axes>"
            ]
          },
          "metadata": {
            "tags": []
          }
        }
      ]
    },
    {
      "cell_type": "code",
      "metadata": {
        "id": "MijY9R-uqVL1",
        "colab_type": "code",
        "colab": {}
      },
      "source": [
        "from sklearn.model_selection import train_test_split"
      ],
      "execution_count": 0,
      "outputs": []
    },
    {
      "cell_type": "code",
      "metadata": {
        "id": "CwqDPXGYqlz9",
        "colab_type": "code",
        "colab": {}
      },
      "source": [
        "X_train, X_test, Y_train, Y_test =  train_test_split(X,Y,test_size = 0.3,random_state=42)"
      ],
      "execution_count": 0,
      "outputs": []
    },
    {
      "cell_type": "code",
      "metadata": {
        "id": "AmVpDscRrJBn",
        "colab_type": "code",
        "outputId": "960f715c-6780-452c-99ba-68fa497d28b5",
        "colab": {
          "base_uri": "https://localhost:8080/",
          "height": 51
        }
      },
      "source": [
        "print(\"X_train\" , X_train.shape , \",\",\n",
        " \"Y_train\" , Y_train.shape,\",\" \"\\n\",\n",
        " \"X_test\" , X_test.shape,\",\", \n",
        " \"Y_test\" ,Y_test.shape)"
      ],
      "execution_count": 0,
      "outputs": [
        {
          "output_type": "stream",
          "text": [
            "X_train (309, 10) , Y_train (309,) ,\n",
            " X_test (133, 10) , Y_test (133,)\n"
          ],
          "name": "stdout"
        }
      ]
    },
    {
      "cell_type": "markdown",
      "metadata": {
        "id": "Jawj599DpjLk",
        "colab_type": "text"
      },
      "source": [
        "\n",
        "\n",
        "# > **Regression**"
      ]
    },
    {
      "cell_type": "code",
      "metadata": {
        "id": "uGB9XlTftFRV",
        "colab_type": "code",
        "colab": {}
      },
      "source": [
        "from sklearn import linear_model\n",
        "reg = linear_model.LinearRegression()"
      ],
      "execution_count": 0,
      "outputs": []
    },
    {
      "cell_type": "code",
      "metadata": {
        "id": "O758tARWtFO-",
        "colab_type": "code",
        "outputId": "2b7fbac9-a9de-4329-da52-dc04a02838fa",
        "colab": {
          "base_uri": "https://localhost:8080/",
          "height": 34
        }
      },
      "source": [
        "reg.fit(X_train,Y_train)"
      ],
      "execution_count": 0,
      "outputs": [
        {
          "output_type": "execute_result",
          "data": {
            "text/plain": [
              "LinearRegression(copy_X=True, fit_intercept=True, n_jobs=None, normalize=False)"
            ]
          },
          "metadata": {
            "tags": []
          },
          "execution_count": 180
        }
      ]
    },
    {
      "cell_type": "code",
      "metadata": {
        "id": "2uCRfAfZuk_1",
        "colab_type": "code",
        "outputId": "488f35a5-5e7f-4425-c52a-b2c9486ea631",
        "colab": {
          "base_uri": "https://localhost:8080/",
          "height": 68
        }
      },
      "source": [
        "print(\" intercept = \", reg.intercept_ ,\"\\n\",\n",
        "     \" coefficient = \" ,reg.coef_ )"
      ],
      "execution_count": 0,
      "outputs": [
        {
          "output_type": "stream",
          "text": [
            " intercept =  151.00818273080338 \n",
            "  coefficient =  [  29.25034582 -261.70768053  546.29737263  388.40077257 -901.95338706\n",
            "  506.761149    121.14845948  288.02932495  659.27133846   41.37536901]\n"
          ],
          "name": "stdout"
        }
      ]
    },
    {
      "cell_type": "code",
      "metadata": {
        "id": "tlwJ1qChtFLW",
        "colab_type": "code",
        "colab": {}
      },
      "source": [
        "y_reghat = reg.predict(X_test)"
      ],
      "execution_count": 0,
      "outputs": []
    },
    {
      "cell_type": "code",
      "metadata": {
        "id": "vSuYteJOtFEe",
        "colab_type": "code",
        "colab": {}
      },
      "source": [
        "from sklearn import metrics"
      ],
      "execution_count": 0,
      "outputs": []
    },
    {
      "cell_type": "code",
      "metadata": {
        "id": "-TL1TJLXtEuO",
        "colab_type": "code",
        "outputId": "d7b6af38-31a4-4276-b4db-225e13061e8b",
        "colab": {
          "base_uri": "https://localhost:8080/",
          "height": 51
        }
      },
      "source": [
        "print(\"mean_absolute_error = \" ,metrics.mean_absolute_error(Y_test,y_reghat),\"\\n\",\n",
        "      \"mean_squared_error = \" , metrics.mean_squared_error(Y_test,y_reghat))"
      ],
      "execution_count": 0,
      "outputs": [
        {
          "output_type": "stream",
          "text": [
            "mean_absolute_error =  41.9192536055668 \n",
            " mean_squared_error =  2821.7385595843784\n"
          ],
          "name": "stdout"
        }
      ]
    },
    {
      "cell_type": "code",
      "metadata": {
        "id": "Db3Lc1VxwJih",
        "colab_type": "code",
        "outputId": "44568c2c-5da8-4558-8df1-676ef4137e86",
        "colab": {
          "base_uri": "https://localhost:8080/",
          "height": 34
        }
      },
      "source": [
        "print('Variance score: {}'.format(reg.score(X_test, Y_test))) "
      ],
      "execution_count": 0,
      "outputs": [
        {
          "output_type": "stream",
          "text": [
            "Variance score: 0.4772920174157329\n"
          ],
          "name": "stdout"
        }
      ]
    },
    {
      "cell_type": "code",
      "metadata": {
        "id": "nfbyOmw0w_n2",
        "colab_type": "code",
        "outputId": "15d83dc9-fcb0-478f-de3a-69824213959a",
        "colab": {
          "base_uri": "https://localhost:8080/",
          "height": 303
        }
      },
      "source": [
        "## setting plot style \n",
        "plt.style.use('fivethirtyeight') \n",
        "  \n",
        "## plotting residual errors in training data \n",
        "plt.scatter(reg.predict(X_train), reg.predict(X_train) - Y_train, \n",
        "            color = \"green\", s = 10, label = 'Train data') \n",
        "  \n",
        "## plotting residual errors in test data \n",
        "plt.scatter(reg.predict(X_test), reg.predict(X_test) - Y_test, \n",
        "            color = \"blue\", s = 10, label = 'Test data') \n",
        "  \n",
        "## plotting line for zero residual error \n",
        "plt.hlines(y = 0, xmin = 0, xmax = 50, linewidth = 2) \n",
        "  \n",
        "## plotting legend \n",
        "plt.legend(loc = 'upper right') \n",
        "  \n",
        "## plot title \n",
        "plt.title(\"Residual errors\") \n",
        "  \n",
        "## function to show plot \n",
        "plt.show() "
      ],
      "execution_count": 0,
      "outputs": [
        {
          "output_type": "display_data",
          "data": {
            "image/png": "[encoded data removed]",
            "text/plain": [
              "<Figure size 432x288 with 1 Axes>"
            ]
          },
          "metadata": {
            "tags": []
          }
        }
      ]
    },
    {
      "cell_type": "code",
      "metadata": {
        "id": "xyvigGKj3h1U",
        "colab_type": "code",
        "outputId": "fa0a97f3-2a74-4b6b-fb0b-5dab90038eba",
        "colab": {
          "base_uri": "https://localhost:8080/",
          "height": 299
        }
      },
      "source": [
        "plt.scatter(Y_test,Y_test)\n",
        "plt.scatter(y_reghat,y_reghat)"
      ],
      "execution_count": 0,
      "outputs": [
        {
          "output_type": "execute_result",
          "data": {
            "text/plain": [
              "<matplotlib.collections.PathCollection at 0x7f95cbc69550>"
            ]
          },
          "metadata": {
            "tags": []
          },
          "execution_count": 187
        },
        {
          "output_type": "display_data",
          "data": {
            "image/png": "[encoded data removed]",
            "text/plain": [
              "<Figure size 432x288 with 1 Axes>"
            ]
          },
          "metadata": {
            "tags": []
          }
        }
      ]
    },
    {
      "cell_type": "markdown",
      "metadata": {
        "id": "OVSnDWPMxk3F",
        "colab_type": "text"
      },
      "source": [
        "#**REGRESSION WITH NORMALIZATION and STANDARDIZATION**"
      ]
    },
    {
      "cell_type": "code",
      "metadata": {
        "id": "dLyyXdqbx0vO",
        "colab_type": "code",
        "colab": {}
      },
      "source": [
        "from sklearn import preprocessing \n",
        "X_norm = preprocessing.normalize(X)"
      ],
      "execution_count": 0,
      "outputs": []
    },
    {
      "cell_type": "code",
      "metadata": {
        "id": "agpJL2OCyttE",
        "colab_type": "code",
        "colab": {}
      },
      "source": [
        "X_norm_train, X_norm_test, Y_train, Y_test =  train_test_split(X_norm,Y)"
      ],
      "execution_count": 0,
      "outputs": []
    },
    {
      "cell_type": "code",
      "metadata": {
        "id": "SxoDVEfry7Um",
        "colab_type": "code",
        "outputId": "f7a9c853-5f27-4be6-f6e2-a5e7dc509f7a",
        "colab": {
          "base_uri": "https://localhost:8080/",
          "height": 68
        }
      },
      "source": [
        "reg.fit(X_norm_train,Y_train)\n",
        "print(\" intercept = \", reg.intercept_ ,\"\\n\",\n",
        "     \" coefficient = \" ,reg.coef_ )"
      ],
      "execution_count": 0,
      "outputs": [
        {
          "output_type": "stream",
          "text": [
            " intercept =  155.29981255257823 \n",
            "  coefficient =  [ -1.96728227 -28.08596825  82.78298759  40.58906165 -35.2896293\n",
            "  -6.47092916 -10.85749642  51.25609819  82.48299818  11.24125462]\n"
          ],
          "name": "stdout"
        }
      ]
    },
    {
      "cell_type": "code",
      "metadata": {
        "id": "zZZpj2hAzPC7",
        "colab_type": "code",
        "outputId": "5cff5bce-a058-40d4-83cd-e4151ebe4e7b",
        "colab": {
          "base_uri": "https://localhost:8080/",
          "height": 51
        }
      },
      "source": [
        "y_norm_reghat = reg.predict(X_norm_test)\n",
        "print(\"mean_absolute_error = \" ,metrics.mean_absolute_error(Y_test,y_norm_reghat),\"\\n\",\n",
        "      \"mean_squared_error = \" , metrics.mean_squared_error(Y_test,y_norm_reghat))"
      ],
      "execution_count": 0,
      "outputs": [
        {
          "output_type": "stream",
          "text": [
            "mean_absolute_error =  46.27715830415979 \n",
            " mean_squared_error =  3417.994878757753\n"
          ],
          "name": "stdout"
        }
      ]
    },
    {
      "cell_type": "code",
      "metadata": {
        "id": "jRt9TfMXz25f",
        "colab_type": "code",
        "colab": {}
      },
      "source": [
        "from sklearn import preprocessing \n",
        "X_scale = preprocessing.scale(X)"
      ],
      "execution_count": 0,
      "outputs": []
    },
    {
      "cell_type": "code",
      "metadata": {
        "id": "x_3O_qqQ0qHN",
        "colab_type": "code",
        "colab": {}
      },
      "source": [
        "X_scale_train, X_scale_test, Y_train, Y_test =  train_test_split(X_scale,Y)"
      ],
      "execution_count": 0,
      "outputs": []
    },
    {
      "cell_type": "code",
      "metadata": {
        "id": "-I5_8nCc0qE_",
        "colab_type": "code",
        "outputId": "7b138ec4-47c0-433d-8489-59f1447ba486",
        "colab": {
          "base_uri": "https://localhost:8080/",
          "height": 68
        }
      },
      "source": [
        "reg.fit(X_scale_train,Y_train)\n",
        "print(\" intercept = \", reg.intercept_ ,\"\\n\",\n",
        "     \" coefficient = \" ,reg.coef_ )"
      ],
      "execution_count": 0,
      "outputs": [
        {
          "output_type": "stream",
          "text": [
            " intercept =  151.77837284425812 \n",
            "  coefficient =  [  1.97158754 -11.81320387  24.99043662  13.0729452  -15.7020495\n",
            "   8.75788306  -8.03669869  -2.13516546  28.31570256   4.5782403 ]\n"
          ],
          "name": "stdout"
        }
      ]
    },
    {
      "cell_type": "code",
      "metadata": {
        "id": "ed4H67tq0qBg",
        "colab_type": "code",
        "outputId": "eca42f98-cb89-42f1-f7c1-35cd4b10db35",
        "colab": {
          "base_uri": "https://localhost:8080/",
          "height": 51
        }
      },
      "source": [
        "y_scale_reghat = reg.predict(X_scale_test)\n",
        "print(\"mean_absolute_error = \" ,metrics.mean_absolute_error(Y_test,y_scale_reghat),\"\\n\",\n",
        "      \"mean_squared_error = \" , metrics.mean_squared_error(Y_test,y_scale_reghat))"
      ],
      "execution_count": 0,
      "outputs": [
        {
          "output_type": "stream",
          "text": [
            "mean_absolute_error =  46.591800682882365 \n",
            " mean_squared_error =  2927.217885650548\n"
          ],
          "name": "stdout"
        }
      ]
    },
    {
      "cell_type": "markdown",
      "metadata": {
        "id": "cyaGDlJw5td2",
        "colab_type": "text"
      },
      "source": [
        "#**LogisticRegression**"
      ]
    },
    {
      "cell_type": "code",
      "metadata": {
        "id": "1ruwuvfv0p8i",
        "colab_type": "code",
        "colab": {}
      },
      "source": [
        "breast_cancer = skd.load_breast_cancer()"
      ],
      "execution_count": 0,
      "outputs": []
    },
    {
      "cell_type": "code",
      "metadata": {
        "id": "9KjCYQQN0p3g",
        "colab_type": "code",
        "colab": {}
      },
      "source": [
        "X = breast_cancer.data\n",
        "Y = breast_cancer.target"
      ],
      "execution_count": 0,
      "outputs": []
    },
    {
      "cell_type": "code",
      "metadata": {
        "id": "MU34IA8e0pue",
        "colab_type": "code",
        "colab": {}
      },
      "source": [
        "from sklearn.linear_model import LogisticRegression\n",
        "logreg = LogisticRegression(max_iter=10000)"
      ],
      "execution_count": 0,
      "outputs": []
    },
    {
      "cell_type": "code",
      "metadata": {
        "id": "q29fkVEJEEvr",
        "colab_type": "code",
        "outputId": "8b76a66b-b6d4-4484-9b77-6fa741f20bd7",
        "colab": {
          "base_uri": "https://localhost:8080/",
          "height": 51
        }
      },
      "source": [
        "X_train,X_test,Y_train,Y_test = train_test_split(X,Y,stratify = Y)\n",
        "print(\"X_train\" , X_train.shape , \",\",\n",
        " \"Y_train\" , Y_train.shape,\",\" \"\\n\",\n",
        " \"X_test\" , X_test.shape,\",\", \n",
        " \"Y_test\" ,Y_test.shape)"
      ],
      "execution_count": 0,
      "outputs": [
        {
          "output_type": "stream",
          "text": [
            "X_train (426, 30) , Y_train (426,) ,\n",
            " X_test (143, 30) , Y_test (143,)\n"
          ],
          "name": "stdout"
        }
      ]
    },
    {
      "cell_type": "code",
      "metadata": {
        "id": "y7NJhFnoEo5o",
        "colab_type": "code",
        "outputId": "b30e59a5-2aaf-48b2-de1c-fdc7c4b497aa",
        "colab": {
          "base_uri": "https://localhost:8080/",
          "height": 102
        }
      },
      "source": [
        "logreg.fit(X_train,Y_train)"
      ],
      "execution_count": 0,
      "outputs": [
        {
          "output_type": "execute_result",
          "data": {
            "text/plain": [
              "LogisticRegression(C=1.0, class_weight=None, dual=False, fit_intercept=True,\n",
              "                   intercept_scaling=1, l1_ratio=None, max_iter=10000,\n",
              "                   multi_class='auto', n_jobs=None, penalty='l2',\n",
              "                   random_state=None, solver='lbfgs', tol=0.0001, verbose=0,\n",
              "                   warm_start=False)"
            ]
          },
          "metadata": {
            "tags": []
          },
          "execution_count": 224
        }
      ]
    },
    {
      "cell_type": "code",
      "metadata": {
        "id": "mJxThsu7FAeg",
        "colab_type": "code",
        "colab": {}
      },
      "source": [
        "y_lg_hat = logreg.predict(X_test)"
      ],
      "execution_count": 0,
      "outputs": []
    },
    {
      "cell_type": "code",
      "metadata": {
        "id": "AZWUUuwXKq-l",
        "colab_type": "code",
        "colab": {}
      },
      "source": [
        "def plot_cm(y_true, y_pred, figsize=(10,10)):\n",
        "    cm = confusion_matrix(y_true, y_pred, labels=np.unique(y_true))\n",
        "    cm_sum = np.sum(cm, axis=1, keepdims=True)\n",
        "    cm_perc = cm / cm_sum.astype(float) * 100\n",
        "    annot = np.empty_like(cm).astype(str)\n",
        "    nrows, ncols = cm.shape\n",
        "    for i in range(nrows):\n",
        "        for j in range(ncols):\n",
        "            c = cm[i, j]\n",
        "            p = cm_perc[i, j]\n",
        "            if i == j:\n",
        "                s = cm_sum[i]\n",
        "                annot[i, j] = '%.1f%%\\n%d/%d' % (p, c, s)\n",
        "            elif c == 0:\n",
        "                annot[i, j] = ''\n",
        "            else:\n",
        "                annot[i, j] = '%.1f%%\\n%d' % (p, c)\n",
        "    cm = pd.DataFrame(cm, index=np.unique(y_true), columns=np.unique(y_true))\n",
        "    cm.index.name = 'Actual'\n",
        "    cm.columns.name = 'Predicted'\n",
        "    fig, ax = plt.subplots(figsize=figsize)\n",
        "    sns.heatmap(cm, cmap= \"YlGnBu\", annot=annot, fmt='', ax=ax)\n",
        "    "
      ],
      "execution_count": 0,
      "outputs": []
    },
    {
      "cell_type": "code",
      "metadata": {
        "id": "s9uX0sMCNHx1",
        "colab_type": "code",
        "outputId": "12ec13e4-7835-45ff-af82-fdf2cef13782",
        "colab": {
          "base_uri": "https://localhost:8080/",
          "height": 654
        }
      },
      "source": [
        "plot_cm(Y_test,y_lg_hat)"
      ],
      "execution_count": 0,
      "outputs": [
        {
          "output_type": "display_data",
          "data": {
            "image/png": "[encoded data removed]",
            "text/plain": [
              "<Figure size 720x720 with 2 Axes>"
            ]
          },
          "metadata": {
            "tags": []
          }
        }
      ]
    },
    {
      "cell_type": "code",
      "metadata": {
        "id": "45OwLIooJMVG",
        "colab_type": "code",
        "outputId": "e110813d-4e45-443d-8de9-4d86eaa5b4f8",
        "colab": {
          "base_uri": "https://localhost:8080/",
          "height": 306
        }
      },
      "source": [
        "from sklearn.metrics import balanced_accuracy_score\n",
        "from sklearn.metrics import classification_report\n",
        "from sklearn.metrics import jaccard_score\n",
        "from sklearn.metrics import log_loss\n",
        "from sklearn.metrics import roc_auc_score\n",
        "\n",
        "\n",
        "print(\"\\n\",\"1)\" ,\"balanced accuray =\" , balanced_accuracy_score(Y_test,y_lg_hat),\"\\n\",\n",
        "\"2)\",classification_report(Y_test,y_lg_hat),\"\\n\",\n",
        "\"3)\",\"jaccard_score = \", jaccard_score(Y_test,y_lg_hat),\"\\n\",\n",
        "\"4)\",\"log_loss =\",log_loss(Y_test,y_lg_hat),\"\\n\",\n",
        "\"5)\", \"ROC = \",roc_auc_score(Y_test,y_lg_hat),\"\\n\")\n",
        "\n",
        "print('Accuracy of Decision Tree classifier on training set: {:.2f}'\n",
        "     .format(logreg.score(X_train, Y_train)))\n",
        "print('Accuracy of Decision Tree classifier on test set: {:.2f}'\n",
        "     .format(logreg.score(X_test, Y_test)))"
      ],
      "execution_count": 0,
      "outputs": [
        {
          "output_type": "stream",
          "text": [
            "\n",
            " 1) balanced accuray = 0.5181341719077568 \n",
            " 2)               precision    recall  f1-score   support\n",
            "\n",
            "           0       0.40      0.36      0.38        53\n",
            "           1       0.64      0.68      0.66        90\n",
            "\n",
            "    accuracy                           0.56       143\n",
            "   macro avg       0.52      0.52      0.52       143\n",
            "weighted avg       0.55      0.56      0.55       143\n",
            " \n",
            " 3) jaccard_score =  0.49193548387096775 \n",
            " 4) log_loss = 15.216574120223772 \n",
            " 5) ROC =  0.5181341719077568 \n",
            "\n",
            "Accuracy of Decision Tree classifier on training set: 0.96\n",
            "Accuracy of Decision Tree classifier on test set: 0.94\n"
          ],
          "name": "stdout"
        }
      ]
    },
    {
      "cell_type": "markdown",
      "metadata": {
        "id": "1PfqeNPXTeGM",
        "colab_type": "text"
      },
      "source": [
        "# **Decision Tree**"
      ]
    },
    {
      "cell_type": "code",
      "metadata": {
        "id": "YbuIc8ntKZD3",
        "colab_type": "code",
        "colab": {}
      },
      "source": [
        "from sklearn.tree import DecisionTreeClassifier\n",
        "DT = DecisionTreeClassifier().fit(X_train,Y_train)"
      ],
      "execution_count": 0,
      "outputs": []
    },
    {
      "cell_type": "code",
      "metadata": {
        "id": "GI7jWYd2UWPe",
        "colab_type": "code",
        "colab": {}
      },
      "source": [
        "y_dt_hat = DT.predict(X_test)"
      ],
      "execution_count": 0,
      "outputs": []
    },
    {
      "cell_type": "code",
      "metadata": {
        "id": "Kx3hrxrSVfkQ",
        "colab_type": "code",
        "outputId": "9cef1509-c486-44d5-cbda-f5728cf6a07f",
        "colab": {
          "base_uri": "https://localhost:8080/",
          "height": 654
        }
      },
      "source": [
        "plot_cm(Y_test,y_dt_hat)"
      ],
      "execution_count": 0,
      "outputs": [
        {
          "output_type": "display_data",
          "data": {
            "image/png": "[encoded data removed]",
            "text/plain": [
              "<Figure size 720x720 with 2 Axes>"
            ]
          },
          "metadata": {
            "tags": []
          }
        }
      ]
    },
    {
      "cell_type": "code",
      "metadata": {
        "id": "hBAZsiEeV5b5",
        "colab_type": "code",
        "outputId": "afa27f81-9002-409c-c4f5-93a23b5bc7d2",
        "colab": {
          "base_uri": "https://localhost:8080/",
          "height": 306
        }
      },
      "source": [
        "print(\"\\n\",\"1)\" ,\"balanced accuray =\" , balanced_accuracy_score(Y_test,y_dt_hat),\"\\n\",\n",
        "\"2)\",classification_report(Y_test,y_dt_hat),\"\\n\",\n",
        "\"3)\",\"jaccard_score = \", jaccard_score(Y_test,y_dt_hat),\"\\n\",\n",
        "\"4)\",\"log_loss =\",log_loss(Y_test,y_dt_hat),\"\\n\",\n",
        "\"5)\", \"ROC =\",roc_auc_score(Y_test,y_dt_hat),\"\\n\")\n",
        "\n",
        "print('Accuracy of Decision Tree classifier on training set: {:.2f}'\n",
        "     .format(DT.score(X_train, Y_train)))\n",
        "print('Accuracy of Decision Tree classifier on test set: {:.2f}'\n",
        "     .format(DT.score(X_test, Y_test)))"
      ],
      "execution_count": 0,
      "outputs": [
        {
          "output_type": "stream",
          "text": [
            "\n",
            " 1) balanced accuray = 0.9172955974842767 \n",
            " 2)               precision    recall  f1-score   support\n",
            "\n",
            "           0       0.94      0.87      0.90        53\n",
            "           1       0.93      0.97      0.95        90\n",
            "\n",
            "    accuracy                           0.93       143\n",
            "   macro avg       0.93      0.92      0.92       143\n",
            "weighted avg       0.93      0.93      0.93       143\n",
            " \n",
            " 3) jaccard_score =  0.8969072164948454 \n",
            " 4) log_loss = 2.4153381897280997 \n",
            " 5) ROC = 0.9172955974842768 \n",
            "\n",
            "Accuracy of Decision Tree classifier on training set: 1.00\n",
            "Accuracy of Decision Tree classifier on test set: 0.93\n"
          ],
          "name": "stdout"
        }
      ]
    },
    {
      "cell_type": "markdown",
      "metadata": {
        "id": "ifEX8eRyWbf8",
        "colab_type": "text"
      },
      "source": [
        "# **K-Nearest Neighbors**"
      ]
    },
    {
      "cell_type": "code",
      "metadata": {
        "id": "40RHcrBSWTig",
        "colab_type": "code",
        "colab": {}
      },
      "source": [
        "from sklearn.neighbors import KNeighborsClassifier\n",
        "knn = KNeighborsClassifier(n_neighbors=5)\n",
        "knn.fit(X_train,Y_train)\n",
        "y_k_hat = knn.predict(X_test)"
      ],
      "execution_count": 0,
      "outputs": []
    },
    {
      "cell_type": "code",
      "metadata": {
        "id": "Pa0SKKSSXK4O",
        "colab_type": "code",
        "outputId": "9950c981-a2e8-4ceb-c80c-f363c72c10f4",
        "colab": {
          "base_uri": "https://localhost:8080/",
          "height": 654
        }
      },
      "source": [
        "plot_cm(Y_test,y_k_hat)"
      ],
      "execution_count": 0,
      "outputs": [
        {
          "output_type": "display_data",
          "data": {
            "image/png": "[encoded data removed]",
            "text/plain": [
              "<Figure size 720x720 with 2 Axes>"
            ]
          },
          "metadata": {
            "tags": []
          }
        }
      ]
    },
    {
      "cell_type": "code",
      "metadata": {
        "id": "rM117S4FXowd",
        "colab_type": "code",
        "outputId": "c6ff507d-7c5d-43c9-c839-793d74965b53",
        "colab": {
          "base_uri": "https://localhost:8080/",
          "height": 306
        }
      },
      "source": [
        "print(\"\\n\",\"1)\" ,\"balanced accuray =\" , balanced_accuracy_score(Y_test,y_k_hat),\"\\n\",\n",
        "\"2)\",classification_report(Y_test,y_k_hat),\"\\n\",\n",
        "\"3)\",\"jaccard_score = \", jaccard_score(Y_test,y_k_hat),\"\\n\",\n",
        "\"4)\",\"log_loss =\",log_loss(Y_test,y_k_hat),\"\\n\",\n",
        "\"5)\", \"ROC =\",roc_auc_score(Y_test,y_k_hat),\"\\n\")\n",
        "\n",
        "print('Accuracy of KNeighborsClassifier on training set: {:.2f}'\n",
        "     .format(knn.score(X_train, Y_train)))\n",
        "print('Accuracy of KNeighborsClassifier on test set: {:.2f}'\n",
        "     .format(knn.score(X_test, Y_test)))"
      ],
      "execution_count": 340,
      "outputs": [
        {
          "output_type": "stream",
          "text": [
            "\n",
            " 1) balanced accuray = 0.9267295597484277 \n",
            " 2)               precision    recall  f1-score   support\n",
            "\n",
            "           0       0.94      0.89      0.91        53\n",
            "           1       0.94      0.97      0.95        90\n",
            "\n",
            "    accuracy                           0.94       143\n",
            "   macro avg       0.94      0.93      0.93       143\n",
            "weighted avg       0.94      0.94      0.94       143\n",
            " \n",
            " 3) jaccard_score =  0.90625 \n",
            " 4) log_loss = 2.173802693278164 \n",
            " 5) ROC = 0.9267295597484277 \n",
            "\n",
            "Accuracy of KNeighborsClassifier on training set: 0.95\n",
            "Accuracy of KNeighborsClassifier on test set: 0.94\n"
          ],
          "name": "stdout"
        }
      ]
    },
    {
      "cell_type": "code",
      "metadata": {
        "id": "de-l_Lc2bBps",
        "colab_type": "code",
        "colab": {}
      },
      "source": [
        "import matplotlib.cm as cm\n",
        "from matplotlib.colors import ListedColormap, BoundaryNorm\n",
        "import matplotlib.patches as mpatches\n",
        "import matplotlib.patches as mpatches"
      ],
      "execution_count": 0,
      "outputs": []
    },
    {
      "cell_type": "markdown",
      "metadata": {
        "id": "ullQYdmwYDxj",
        "colab_type": "text"
      },
      "source": [
        "# **Linear Discriminant Analysis**"
      ]
    },
    {
      "cell_type": "code",
      "metadata": {
        "id": "-MgqHfgAX6Ui",
        "colab_type": "code",
        "colab": {}
      },
      "source": [
        "from sklearn.discriminant_analysis import LinearDiscriminantAnalysis\n",
        "lda = LinearDiscriminantAnalysis()\n",
        "lda.fit(X_train, Y_train)\n",
        "y_lda_hat = lda.predict(X_test)"
      ],
      "execution_count": 0,
      "outputs": []
    },
    {
      "cell_type": "code",
      "metadata": {
        "id": "bnzI8KxpYKC1",
        "colab_type": "code",
        "outputId": "b96b2498-b449-43c6-b5fc-a9d66d631091",
        "colab": {
          "base_uri": "https://localhost:8080/",
          "height": 659
        }
      },
      "source": [
        "plot_cm(Y_test,y_lda_hat)"
      ],
      "execution_count": 0,
      "outputs": [
        {
          "output_type": "display_data",
          "data": {
            "image/png": "[encoded data removed]",
            "text/plain": [
              "<Figure size 720x720 with 2 Axes>"
            ]
          },
          "metadata": {
            "tags": []
          }
        }
      ]
    },
    {
      "cell_type": "code",
      "metadata": {
        "id": "fKz3rzP1Ya2G",
        "colab_type": "code",
        "outputId": "c894c94c-362f-4ced-a12d-4a96d77e1297",
        "colab": {
          "base_uri": "https://localhost:8080/",
          "height": 306
        }
      },
      "source": [
        "print(\"\\n\",\"1)\" ,\"balanced accuray =\" , balanced_accuracy_score(Y_test,y_lda_hat),\"\\n\",\n",
        "\"2)\",classification_report(Y_test,y_lda_hat),\"\\n\",\n",
        "\"3)\",\"jaccard_score = \", jaccard_score(Y_test,y_lda_hat),\"\\n\",\n",
        "\"4)\",\"log_loss =\",log_loss(Y_test,y_lda_hat),\"\\n\",\n",
        "\"5)\", \"ROC =\",roc_auc_score(Y_test,y_lda_hat),\"\\n\")\n",
        "\n",
        "print('Accuracy of LinearDiscriminant on training set: {:.2f}'\n",
        "     .format(lda.score(X_train, Y_train)))\n",
        "print('Accuracy of LinearDiscriminant on test set: {:.2f}'\n",
        "     .format(lda.score(X_test, Y_test)))"
      ],
      "execution_count": 341,
      "outputs": [
        {
          "output_type": "stream",
          "text": [
            "\n",
            " 1) balanced accuray = 0.9150943396226415 \n",
            " 2)               precision    recall  f1-score   support\n",
            "\n",
            "           0       1.00      0.83      0.91        53\n",
            "           1       0.91      1.00      0.95        90\n",
            "\n",
            "    accuracy                           0.94       143\n",
            "   macro avg       0.95      0.92      0.93       143\n",
            "weighted avg       0.94      0.94      0.94       143\n",
            " \n",
            " 3) jaccard_score =  0.9090909090909091 \n",
            " 4) log_loss = 2.1738194680494263 \n",
            " 5) ROC = 0.9150943396226415 \n",
            "\n",
            "Accuracy of LinearDiscriminant on training set: 0.97\n",
            "Accuracy of LinearDiscriminant on test set: 0.94\n"
          ],
          "name": "stdout"
        }
      ]
    },
    {
      "cell_type": "markdown",
      "metadata": {
        "id": "4jgeIiUEaHwU",
        "colab_type": "text"
      },
      "source": [
        "# **Gaussian Naive Bayes**"
      ]
    },
    {
      "cell_type": "code",
      "metadata": {
        "id": "34thGSC2YqNv",
        "colab_type": "code",
        "colab": {}
      },
      "source": [
        "from sklearn.naive_bayes import GaussianNB\n",
        "gnb = GaussianNB()\n",
        "gnb.fit(X_train, Y_train)\n",
        "y_gnb_hat = gnb.predict(X_test)"
      ],
      "execution_count": 0,
      "outputs": []
    },
    {
      "cell_type": "code",
      "metadata": {
        "id": "MSX9NDDDZsTQ",
        "colab_type": "code",
        "colab": {
          "base_uri": "https://localhost:8080/",
          "height": 654
        },
        "outputId": "d30cd710-547d-496a-ad1b-1cd96416b162"
      },
      "source": [
        "plot_cm(Y_test,y_gnb_hat)"
      ],
      "execution_count": 344,
      "outputs": [
        {
          "output_type": "display_data",
          "data": {
            "image/png": "[encoded data removed]",
            "text/plain": [
              "<Figure size 720x720 with 2 Axes>"
            ]
          },
          "metadata": {
            "tags": []
          }
        }
      ]
    },
    {
      "cell_type": "code",
      "metadata": {
        "id": "0Bd7pFFmZ2Cl",
        "colab_type": "code",
        "colab": {
          "base_uri": "https://localhost:8080/",
          "height": 306
        },
        "outputId": "ef644555-c411-474d-bdcb-f257bf1bce2c"
      },
      "source": [
        "print(\"\\n\",\"1)\" ,\"balanced accuray =\" , balanced_accuracy_score(Y_test,y_gnb_hat),\"\\n\",\n",
        "\"2)\",classification_report(Y_test,y_gnb_hat),\"\\n\",\n",
        "\"3)\",\"jaccard_score = \", jaccard_score(Y_test,y_gnb_hat),\"\\n\",\n",
        "\"4)\",\"log_loss =\",log_loss(Y_test,y_gnb_hat),\"\\n\",\n",
        "\"5)\", \"ROC =\",roc_auc_score(Y_test,y_gnb_hat),\"\\n\")\n",
        "\n",
        "print('Accuracy of Gaussian Naive Bayes on training set: {:.2f}'\n",
        "     .format(gnb.score(X_train, Y_train)))\n",
        "print('Accuracy of Gaussian Naive Bayes on test set: {:.2f}'\n",
        "     .format(gnb.score(X_test, Y_test)))"
      ],
      "execution_count": 345,
      "outputs": [
        {
          "output_type": "stream",
          "text": [
            "\n",
            " 1) balanced accuray = 0.9172955974842767 \n",
            " 2)               precision    recall  f1-score   support\n",
            "\n",
            "           0       0.94      0.87      0.90        53\n",
            "           1       0.93      0.97      0.95        90\n",
            "\n",
            "    accuracy                           0.93       143\n",
            "   macro avg       0.93      0.92      0.92       143\n",
            "weighted avg       0.93      0.93      0.93       143\n",
            " \n",
            " 3) jaccard_score =  0.8969072164948454 \n",
            " 4) log_loss = 2.4153381897281 \n",
            " 5) ROC = 0.9172955974842768 \n",
            "\n",
            "Accuracy of Gaussian Naive Bayes on training set: 0.94\n",
            "Accuracy of Gaussian Naive Bayes on test set: 0.93\n"
          ],
          "name": "stdout"
        }
      ]
    },
    {
      "cell_type": "markdown",
      "metadata": {
        "id": "qMAbKIdPaMj7",
        "colab_type": "text"
      },
      "source": [
        "# **Support Vector Machine**"
      ]
    },
    {
      "cell_type": "code",
      "metadata": {
        "id": "5sKTFQulaGTP",
        "colab_type": "code",
        "colab": {}
      },
      "source": [
        "from sklearn.svm import SVC\n",
        "svm = SVC()\n",
        "svm.fit(X_train, Y_train)\n",
        "y_svm_hat = svm.predict(X_test)"
      ],
      "execution_count": 0,
      "outputs": []
    },
    {
      "cell_type": "code",
      "metadata": {
        "id": "rGHV8OsWaZIX",
        "colab_type": "code",
        "colab": {
          "base_uri": "https://localhost:8080/",
          "height": 654
        },
        "outputId": "43f185c6-ec49-4083-a2e8-76a8af69d0fb"
      },
      "source": [
        "plot_cm(Y_test,y_svm_hat)"
      ],
      "execution_count": 347,
      "outputs": [
        {
          "output_type": "display_data",
          "data": {
            "image/png": "[encoded data removed]",
            "text/plain": [
              "<Figure size 720x720 with 2 Axes>"
            ]
          },
          "metadata": {
            "tags": []
          }
        }
      ]
    },
    {
      "cell_type": "code",
      "metadata": {
        "id": "NEsFZfJTae_K",
        "colab_type": "code",
        "colab": {
          "base_uri": "https://localhost:8080/",
          "height": 306
        },
        "outputId": "835445ef-5081-4837-a6bb-9512444e47dd"
      },
      "source": [
        "print(\"\\n\",\"1)\" ,\"balanced accuray =\" , balanced_accuracy_score(Y_test,y_svm_hat),\"\\n\",\n",
        "\"2)\",classification_report(Y_test,y_svm_hat),\"\\n\",\n",
        "\"3)\",\"jaccard_score = \", jaccard_score(Y_test,y_svm_hat),\"\\n\",\n",
        "\"4)\",\"log_loss =\",log_loss(Y_test,y_svm_hat),\"\\n\",\n",
        "\"5)\", \"ROC =\",roc_auc_score(Y_test,y_svm_hat),\"\\n\")\n",
        "\n",
        "print('Accuracy of Support Vector Machine on training set: {:.2f}'\n",
        "     .format(svm.score(X_train, Y_train)))\n",
        "print('Accuracy of Support Vector Machine on test set: {:.2f}'\n",
        "     .format(svm.score(X_test, Y_test)))"
      ],
      "execution_count": 348,
      "outputs": [
        {
          "output_type": "stream",
          "text": [
            "\n",
            " 1) balanced accuray = 0.8812368972746332 \n",
            " 2)               precision    recall  f1-score   support\n",
            "\n",
            "           0       0.98      0.77      0.86        53\n",
            "           1       0.88      0.99      0.93        90\n",
            "\n",
            "    accuracy                           0.91       143\n",
            "   macro avg       0.93      0.88      0.90       143\n",
            "weighted avg       0.92      0.91      0.91       143\n",
            " \n",
            " 3) jaccard_score =  0.8725490196078431 \n",
            " 4) log_loss = 3.1399558622587502 \n",
            " 5) ROC = 0.8812368972746332 \n",
            "\n",
            "Accuracy of Support Vector Machine on training set: 0.92\n",
            "Accuracy of Support Vector Machine on test set: 0.91\n"
          ],
          "name": "stdout"
        }
      ]
    },
    {
      "cell_type": "markdown",
      "metadata": {
        "id": "NCvPsLP8cZcA",
        "colab_type": "text"
      },
      "source": [
        "#**xgboost**"
      ]
    },
    {
      "cell_type": "code",
      "metadata": {
        "id": "6bp8NsAgatYc",
        "colab_type": "code",
        "colab": {}
      },
      "source": [
        "from xgboost import XGBClassifier\n",
        "xg = XGBClassifier()\n",
        "xg.fit(X_train,Y_train)\n",
        "y_xg_hat=xg.predict(X_test)"
      ],
      "execution_count": 0,
      "outputs": []
    },
    {
      "cell_type": "code",
      "metadata": {
        "id": "zg-j9cmucktg",
        "colab_type": "code",
        "colab": {
          "base_uri": "https://localhost:8080/",
          "height": 654
        },
        "outputId": "0fd26ed8-0cdc-4ba3-fccf-95f5d5a54c6b"
      },
      "source": [
        "plot_cm(Y_test,y_xg_hat)"
      ],
      "execution_count": 353,
      "outputs": [
        {
          "output_type": "display_data",
          "data": {
            "image/png": "[encoded data removed]",
            "text/plain": [
              "<Figure size 720x720 with 2 Axes>"
            ]
          },
          "metadata": {
            "tags": []
          }
        }
      ]
    },
    {
      "cell_type": "code",
      "metadata": {
        "id": "3KPGxtTFc0ds",
        "colab_type": "code",
        "colab": {
          "base_uri": "https://localhost:8080/",
          "height": 306
        },
        "outputId": "7ff89ff9-7abf-48bb-cd02-c10931cf57bf"
      },
      "source": [
        "print(\"\\n\",\"1)\" ,\"balanced accuray =\" , balanced_accuracy_score(Y_test,y_xg_hat),\"\\n\",\n",
        "\"2)\",classification_report(Y_test,y_xg_hat),\"\\n\",\n",
        "\"3)\",\"jaccard_score = \", jaccard_score(Y_test,y_xg_hat),\"\\n\",\n",
        "\"4)\",\"log_loss =\",log_loss(Y_test,y_xg_hat),\"\\n\",\n",
        "\"5)\", \"ROC =\",roc_auc_score(Y_test,y_xg_hat),\"\\n\")\n",
        "\n",
        "print('Accuracy of XGBoost on training set: {:.2f}'\n",
        "     .format(xg.score(X_train, Y_train)))\n",
        "print('Accuracy of XGBoost on test set: {:.2f}'\n",
        "     .format(xg.score(X_test, Y_test)))"
      ],
      "execution_count": 355,
      "outputs": [
        {
          "output_type": "stream",
          "text": [
            "\n",
            " 1) balanced accuray = 0.960587002096436 \n",
            " 2)               precision    recall  f1-score   support\n",
            "\n",
            "           0       0.96      0.94      0.95        53\n",
            "           1       0.97      0.98      0.97        90\n",
            "\n",
            "    accuracy                           0.97       143\n",
            "   macro avg       0.96      0.96      0.96       143\n",
            "weighted avg       0.96      0.97      0.96       143\n",
            " \n",
            " 3) jaccard_score =  0.946236559139785 \n",
            " 4) log_loss = 1.2076662990688398 \n",
            " 5) ROC = 0.9605870020964361 \n",
            "\n",
            "Accuracy of XGBoost on training set: 1.00\n",
            "Accuracy of XGBoost on test set: 0.97\n"
          ],
          "name": "stdout"
        }
      ]
    },
    {
      "cell_type": "markdown",
      "metadata": {
        "id": "M6QDlf9yda0J",
        "colab_type": "text"
      },
      "source": [
        "# **Random Forest Classifier**"
      ]
    },
    {
      "cell_type": "code",
      "metadata": {
        "id": "aBxZoZc3dEDo",
        "colab_type": "code",
        "colab": {}
      },
      "source": [
        "from sklearn.ensemble import RandomForestClassifier\n",
        "RF = RandomForestClassifier(n_estimators=100)\n",
        "RF.fit(X_train,Y_train)\n",
        "y_rf_hat=xg.predict(X_test)"
      ],
      "execution_count": 0,
      "outputs": []
    },
    {
      "cell_type": "code",
      "metadata": {
        "id": "n1r1tjq_dZIr",
        "colab_type": "code",
        "colab": {
          "base_uri": "https://localhost:8080/",
          "height": 654
        },
        "outputId": "86b96650-6cbe-4dee-a766-09d4b57bf0ea"
      },
      "source": [
        "plot_cm(Y_test,y_rf_hat)"
      ],
      "execution_count": 360,
      "outputs": [
        {
          "output_type": "display_data",
          "data": {
            "image/png": "[encoded data removed]",
            "text/plain": [
              "<Figure size 720x720 with 2 Axes>"
            ]
          },
          "metadata": {
            "tags": []
          }
        }
      ]
    },
    {
      "cell_type": "code",
      "metadata": {
        "id": "6HJ4mlVXdlWa",
        "colab_type": "code",
        "colab": {
          "base_uri": "https://localhost:8080/",
          "height": 306
        },
        "outputId": "7dc25f7b-f60c-47bf-e3d7-76719a7ebf6e"
      },
      "source": [
        "print(\"\\n\",\"1)\" ,\"balanced accuray =\" , balanced_accuracy_score(Y_test,y_rf_hat),\"\\n\",\n",
        "\"2)\",classification_report(Y_test,y_rf_hat),\"\\n\",\n",
        "\"3)\",\"jaccard_score = \", jaccard_score(Y_test,y_rf_hat),\"\\n\",\n",
        "\"4)\",\"log_loss =\",log_loss(Y_test,y_rf_hat),\"\\n\",\n",
        "\"5)\", \"ROC =\",roc_auc_score(Y_test,y_rf_hat),\"\\n\")\n",
        "\n",
        "print('Accuracy of Random Forest on training set: {:.2f}'\n",
        "     .format(xg.score(X_train, Y_train)))\n",
        "print('Accuracy of Random Forest on test set: {:.2f}'\n",
        "     .format(xg.score(X_test, Y_test)))"
      ],
      "execution_count": 361,
      "outputs": [
        {
          "output_type": "stream",
          "text": [
            "\n",
            " 1) balanced accuray = 0.960587002096436 \n",
            " 2)               precision    recall  f1-score   support\n",
            "\n",
            "           0       0.96      0.94      0.95        53\n",
            "           1       0.97      0.98      0.97        90\n",
            "\n",
            "    accuracy                           0.97       143\n",
            "   macro avg       0.96      0.96      0.96       143\n",
            "weighted avg       0.96      0.97      0.96       143\n",
            " \n",
            " 3) jaccard_score =  0.946236559139785 \n",
            " 4) log_loss = 1.2076662990688398 \n",
            " 5) ROC = 0.9605870020964361 \n",
            "\n",
            "Accuracy of Random Forest on training set: 1.00\n",
            "Accuracy of Random Forest on test set: 0.97\n"
          ],
          "name": "stdout"
        }
      ]
    },
    {
      "cell_type": "code",
      "metadata": {
        "id": "8ziI7e5hdwPs",
        "colab_type": "code",
        "colab": {}
      },
      "source": [
        ""
      ],
      "execution_count": 0,
      "outputs": []
    }
  ]
}