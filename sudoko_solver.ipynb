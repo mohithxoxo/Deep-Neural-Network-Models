{
  "nbformat": 4,
  "nbformat_minor": 0,
  "metadata": {
    "kernelspec": {
      "display_name": "Python 3",
      "language": "python",
      "name": "python3"
    },
    "language_info": {
      "codemirror_mode": {
        "name": "ipython",
        "version": 3
      },
      "file_extension": ".py",
      "mimetype": "text/x-python",
      "name": "python",
      "nbconvert_exporter": "python",
      "pygments_lexer": "ipython3",
      "version": "3.7.4"
    },
    "colab": {
      "name": "sudoko_solver.ipynb",
      "provenance": [],
      "include_colab_link": true
    }
  },
  "cells": [
    {
      "cell_type": "markdown",
      "metadata": {
        "id": "view-in-github",
        "colab_type": "text"
      },
      "source": [
        "<a href=\"https://colab.research.google.com/github/mohithxoxo/Deep-Neural-Network-Models/blob/master/sudoko_solver.ipynb\" target=\"_parent\"><img src=\"https://colab.research.google.com/assets/colab-badge.svg\" alt=\"Open In Colab\"/></a>"
      ]
    },
    {
      "cell_type": "code",
      "metadata": {
        "id": "sWAfrCSlJNOT",
        "colab_type": "code",
        "colab": {}
      },
      "source": [
        "def findNextCellToFill(grid, i, j):\n",
        "        for x in range(i,9):\n",
        "                for y in range(j,9):\n",
        "                        if grid[x][y] == 0:\n",
        "                                return x,y\n",
        "        for x in range(0,9):\n",
        "                for y in range(0,9):\n",
        "                        if grid[x][y] == 0:\n",
        "                                return x,y\n",
        "        return -1,-1\n",
        "\n",
        "def isValid(grid, i, j, e):\n",
        "        rowOk = all([e != grid[i][x] for x in range(9)])\n",
        "        if rowOk:\n",
        "                columnOk = all([e != grid[x][j] for x in range(9)])\n",
        "                if columnOk:\n",
        "                        # finding the top left x,y co-ordinates of the section containing the i,j cell\n",
        "                        secTopX, secTopY = 3 *(i//3), 3 *(j//3) #floored quotient should be used here. \n",
        "                        for x in range(secTopX, secTopX+3):\n",
        "                                for y in range(secTopY, secTopY+3):\n",
        "                                        if grid[x][y] == e:\n",
        "                                                return False\n",
        "                        return True\n",
        "        return False\n",
        "\n",
        "def solveSudoku(grid, i=0, j=0):\n",
        "        i,j = findNextCellToFill(grid, i, j)\n",
        "        if i == -1:\n",
        "                return True\n",
        "        for e in range(1,10):\n",
        "                if isValid(grid,i,j,e):\n",
        "                        grid[i][j] = e\n",
        "                        if solveSudoku(grid, i, j):\n",
        "                                return True\n",
        "                        # Undo the current cell for backtracking\n",
        "                        grid[i][j] = 0\n",
        "        return False"
      ],
      "execution_count": 0,
      "outputs": []
    },
    {
      "cell_type": "code",
      "metadata": {
        "id": "rW_me3RXJNOd",
        "colab_type": "code",
        "colab": {}
      },
      "source": [
        "#example\n",
        "grid = [[3, 0, 6, 5, 0, 8, 4, 0, 0], \n",
        "         [5, 2, 0, 0, 0, 0, 0, 0, 0], \n",
        "         [0, 8, 7, 0, 0, 0, 0, 3, 1], \n",
        "         [0, 0, 3, 0, 1, 0, 0, 8, 0], \n",
        "         [9, 0, 0, 8, 6, 3, 0, 0, 5], \n",
        "         [0, 5, 0, 0, 9, 0, 6, 0, 0], \n",
        "         [1, 3, 0, 0, 0, 0, 2, 5, 0], \n",
        "         [0, 0, 0, 0, 0, 0, 0, 7, 4], \n",
        "         [0, 0, 5, 2, 0, 6, 3, 0, 0] ]"
      ],
      "execution_count": 0,
      "outputs": []
    },
    {
      "cell_type": "code",
      "metadata": {
        "id": "2PYbUlKWJNOj",
        "colab_type": "code",
        "outputId": "d746bb96-3cbb-4664-801b-f3bbf8662db3",
        "colab": {
          "base_uri": "https://localhost:8080/",
          "height": 34
        }
      },
      "source": [
        "solveSudoku(grid)"
      ],
      "execution_count": 8,
      "outputs": [
        {
          "output_type": "execute_result",
          "data": {
            "text/plain": [
              "True"
            ]
          },
          "metadata": {
            "tags": []
          },
          "execution_count": 8
        }
      ]
    },
    {
      "cell_type": "code",
      "metadata": {
        "id": "jofpT6ZGJNOt",
        "colab_type": "code",
        "outputId": "9962ab70-5dcd-4e59-b20d-6898dc5726c0",
        "colab": {
          "base_uri": "https://localhost:8080/",
          "height": 170
        }
      },
      "source": [
        "grid"
      ],
      "execution_count": 9,
      "outputs": [
        {
          "output_type": "execute_result",
          "data": {
            "text/plain": [
              "[[3, 1, 6, 5, 7, 8, 4, 9, 2],\n",
              " [5, 2, 9, 1, 3, 4, 7, 6, 8],\n",
              " [4, 8, 7, 6, 2, 9, 5, 3, 1],\n",
              " [2, 6, 3, 4, 1, 5, 9, 8, 7],\n",
              " [9, 7, 4, 8, 6, 3, 1, 2, 5],\n",
              " [8, 5, 1, 7, 9, 2, 6, 4, 3],\n",
              " [1, 3, 8, 9, 4, 7, 2, 5, 6],\n",
              " [6, 9, 2, 3, 5, 1, 8, 7, 4],\n",
              " [7, 4, 5, 2, 8, 6, 3, 1, 9]]"
            ]
          },
          "metadata": {
            "tags": []
          },
          "execution_count": 9
        }
      ]
    },
    {
      "cell_type": "code",
      "metadata": {
        "id": "C9sefvOGLgAZ",
        "colab_type": "code",
        "colab": {}
      },
      "source": [
        ""
      ],
      "execution_count": 0,
      "outputs": []
    }
  ]
}