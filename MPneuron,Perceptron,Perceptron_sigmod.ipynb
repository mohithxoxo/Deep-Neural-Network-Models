{
  "nbformat": 4,
  "nbformat_minor": 0,
  "metadata": {
    "colab": {
      "name": "MPneuron,Perceptron,Perceptron_sigmod.ipynb",
      "provenance": [],
      "authorship_tag": "ABX9TyPLgFyVvHqzHB1Nv1Od00HZ"
    },
    "kernelspec": {
      "name": "python3",
      "display_name": "Python 3"
    },
    "widgets": {
      "application/vnd.jupyter.widget-state+json": {
        "82cd0656aa5c448baf9c91e46976beb1": {
          "model_module": "@jupyter-widgets/controls",
          "model_name": "HBoxModel",
          "state": {
            "_view_name": "HBoxView",
            "_dom_classes": [],
            "_model_name": "HBoxModel",
            "_view_module": "@jupyter-widgets/controls",
            "_model_module_version": "1.5.0",
            "_view_count": null,
            "_view_module_version": "1.5.0",
            "box_style": "",
            "layout": "IPY_MODEL_53b29b8cd39d4adfba5233f3f9c51b80",
            "_model_module": "@jupyter-widgets/controls",
            "children": [
              "IPY_MODEL_657622f6efd04dcf93d65c6a72d3775a",
              "IPY_MODEL_04601f42709a4310bfb82e040c173f48"
            ]
          }
        },
        "53b29b8cd39d4adfba5233f3f9c51b80": {
          "model_module": "@jupyter-widgets/base",
          "model_name": "LayoutModel",
          "state": {
            "_view_name": "LayoutView",
            "grid_template_rows": null,
            "right": null,
            "justify_content": null,
            "_view_module": "@jupyter-widgets/base",
            "overflow": null,
            "_model_module_version": "1.2.0",
            "_view_count": null,
            "flex_flow": null,
            "width": null,
            "min_width": null,
            "border": null,
            "align_items": null,
            "bottom": null,
            "_model_module": "@jupyter-widgets/base",
            "top": null,
            "grid_column": null,
            "overflow_y": null,
            "overflow_x": null,
            "grid_auto_flow": null,
            "grid_area": null,
            "grid_template_columns": null,
            "flex": null,
            "_model_name": "LayoutModel",
            "justify_items": null,
            "grid_row": null,
            "max_height": null,
            "align_content": null,
            "visibility": null,
            "align_self": null,
            "height": null,
            "min_height": null,
            "padding": null,
            "grid_auto_rows": null,
            "grid_gap": null,
            "max_width": null,
            "order": null,
            "_view_module_version": "1.2.0",
            "grid_template_areas": null,
            "object_position": null,
            "object_fit": null,
            "grid_auto_columns": null,
            "margin": null,
            "display": null,
            "left": null
          }
        },
        "657622f6efd04dcf93d65c6a72d3775a": {
          "model_module": "@jupyter-widgets/controls",
          "model_name": "IntProgressModel",
          "state": {
            "_view_name": "ProgressView",
            "style": "IPY_MODEL_d897cc8cad4d47b2bad4552ea515d38f",
            "_dom_classes": [],
            "description": "100%",
            "_model_name": "IntProgressModel",
            "bar_style": "success",
            "max": 100,
            "_view_module": "@jupyter-widgets/controls",
            "_model_module_version": "1.5.0",
            "value": 100,
            "_view_count": null,
            "_view_module_version": "1.5.0",
            "orientation": "horizontal",
            "min": 0,
            "description_tooltip": null,
            "_model_module": "@jupyter-widgets/controls",
            "layout": "IPY_MODEL_2aee19e976114aa1b239452787efe4bd"
          }
        },
        "04601f42709a4310bfb82e040c173f48": {
          "model_module": "@jupyter-widgets/controls",
          "model_name": "HTMLModel",
          "state": {
            "_view_name": "HTMLView",
            "style": "IPY_MODEL_ba412f1e63fd45a0a57df7b7806e286d",
            "_dom_classes": [],
            "description": "",
            "_model_name": "HTMLModel",
            "placeholder": "​",
            "_view_module": "@jupyter-widgets/controls",
            "_model_module_version": "1.5.0",
            "value": " 100/100 [01:19&lt;00:00,  1.27epoch/s]",
            "_view_count": null,
            "_view_module_version": "1.5.0",
            "description_tooltip": null,
            "_model_module": "@jupyter-widgets/controls",
            "layout": "IPY_MODEL_6fdd6193b8744565bbe75897077d418a"
          }
        },
        "d897cc8cad4d47b2bad4552ea515d38f": {
          "model_module": "@jupyter-widgets/controls",
          "model_name": "ProgressStyleModel",
          "state": {
            "_view_name": "StyleView",
            "_model_name": "ProgressStyleModel",
            "description_width": "initial",
            "_view_module": "@jupyter-widgets/base",
            "_model_module_version": "1.5.0",
            "_view_count": null,
            "_view_module_version": "1.2.0",
            "bar_color": null,
            "_model_module": "@jupyter-widgets/controls"
          }
        },
        "2aee19e976114aa1b239452787efe4bd": {
          "model_module": "@jupyter-widgets/base",
          "model_name": "LayoutModel",
          "state": {
            "_view_name": "LayoutView",
            "grid_template_rows": null,
            "right": null,
            "justify_content": null,
            "_view_module": "@jupyter-widgets/base",
            "overflow": null,
            "_model_module_version": "1.2.0",
            "_view_count": null,
            "flex_flow": null,
            "width": null,
            "min_width": null,
            "border": null,
            "align_items": null,
            "bottom": null,
            "_model_module": "@jupyter-widgets/base",
            "top": null,
            "grid_column": null,
            "overflow_y": null,
            "overflow_x": null,
            "grid_auto_flow": null,
            "grid_area": null,
            "grid_template_columns": null,
            "flex": null,
            "_model_name": "LayoutModel",
            "justify_items": null,
            "grid_row": null,
            "max_height": null,
            "align_content": null,
            "visibility": null,
            "align_self": null,
            "height": null,
            "min_height": null,
            "padding": null,
            "grid_auto_rows": null,
            "grid_gap": null,
            "max_width": null,
            "order": null,
            "_view_module_version": "1.2.0",
            "grid_template_areas": null,
            "object_position": null,
            "object_fit": null,
            "grid_auto_columns": null,
            "margin": null,
            "display": null,
            "left": null
          }
        },
        "ba412f1e63fd45a0a57df7b7806e286d": {
          "model_module": "@jupyter-widgets/controls",
          "model_name": "DescriptionStyleModel",
          "state": {
            "_view_name": "StyleView",
            "_model_name": "DescriptionStyleModel",
            "description_width": "",
            "_view_module": "@jupyter-widgets/base",
            "_model_module_version": "1.5.0",
            "_view_count": null,
            "_view_module_version": "1.2.0",
            "_model_module": "@jupyter-widgets/controls"
          }
        },
        "6fdd6193b8744565bbe75897077d418a": {
          "model_module": "@jupyter-widgets/base",
          "model_name": "LayoutModel",
          "state": {
            "_view_name": "LayoutView",
            "grid_template_rows": null,
            "right": null,
            "justify_content": null,
            "_view_module": "@jupyter-widgets/base",
            "overflow": null,
            "_model_module_version": "1.2.0",
            "_view_count": null,
            "flex_flow": null,
            "width": null,
            "min_width": null,
            "border": null,
            "align_items": null,
            "bottom": null,
            "_model_module": "@jupyter-widgets/base",
            "top": null,
            "grid_column": null,
            "overflow_y": null,
            "overflow_x": null,
            "grid_auto_flow": null,
            "grid_area": null,
            "grid_template_columns": null,
            "flex": null,
            "_model_name": "LayoutModel",
            "justify_items": null,
            "grid_row": null,
            "max_height": null,
            "align_content": null,
            "visibility": null,
            "align_self": null,
            "height": null,
            "min_height": null,
            "padding": null,
            "grid_auto_rows": null,
            "grid_gap": null,
            "max_width": null,
            "order": null,
            "_view_module_version": "1.2.0",
            "grid_template_areas": null,
            "object_position": null,
            "object_fit": null,
            "grid_auto_columns": null,
            "margin": null,
            "display": null,
            "left": null
          }
        },
        "808779a7dd644ee1886d95bff5aa93ed": {
          "model_module": "@jupyter-widgets/controls",
          "model_name": "HBoxModel",
          "state": {
            "_view_name": "HBoxView",
            "_dom_classes": [],
            "_model_name": "HBoxModel",
            "_view_module": "@jupyter-widgets/controls",
            "_model_module_version": "1.5.0",
            "_view_count": null,
            "_view_module_version": "1.5.0",
            "box_style": "",
            "layout": "IPY_MODEL_a16d29f4e7e14488a30a5d05b1bfa670",
            "_model_module": "@jupyter-widgets/controls",
            "children": [
              "IPY_MODEL_2684086fd4ce49d78f20b8306f0f2e6b",
              "IPY_MODEL_f6e913b28bc0429d9ee6aea51e365ef6"
            ]
          }
        },
        "a16d29f4e7e14488a30a5d05b1bfa670": {
          "model_module": "@jupyter-widgets/base",
          "model_name": "LayoutModel",
          "state": {
            "_view_name": "LayoutView",
            "grid_template_rows": null,
            "right": null,
            "justify_content": null,
            "_view_module": "@jupyter-widgets/base",
            "overflow": null,
            "_model_module_version": "1.2.0",
            "_view_count": null,
            "flex_flow": null,
            "width": null,
            "min_width": null,
            "border": null,
            "align_items": null,
            "bottom": null,
            "_model_module": "@jupyter-widgets/base",
            "top": null,
            "grid_column": null,
            "overflow_y": null,
            "overflow_x": null,
            "grid_auto_flow": null,
            "grid_area": null,
            "grid_template_columns": null,
            "flex": null,
            "_model_name": "LayoutModel",
            "justify_items": null,
            "grid_row": null,
            "max_height": null,
            "align_content": null,
            "visibility": null,
            "align_self": null,
            "height": null,
            "min_height": null,
            "padding": null,
            "grid_auto_rows": null,
            "grid_gap": null,
            "max_width": null,
            "order": null,
            "_view_module_version": "1.2.0",
            "grid_template_areas": null,
            "object_position": null,
            "object_fit": null,
            "grid_auto_columns": null,
            "margin": null,
            "display": null,
            "left": null
          }
        },
        "2684086fd4ce49d78f20b8306f0f2e6b": {
          "model_module": "@jupyter-widgets/controls",
          "model_name": "IntProgressModel",
          "state": {
            "_view_name": "ProgressView",
            "style": "IPY_MODEL_ccc3305224c94089b1c4ce503e034d6b",
            "_dom_classes": [],
            "description": "100%",
            "_model_name": "IntProgressModel",
            "bar_style": "success",
            "max": 100,
            "_view_module": "@jupyter-widgets/controls",
            "_model_module_version": "1.5.0",
            "value": 100,
            "_view_count": null,
            "_view_module_version": "1.5.0",
            "orientation": "horizontal",
            "min": 0,
            "description_tooltip": null,
            "_model_module": "@jupyter-widgets/controls",
            "layout": "IPY_MODEL_a69233fb550c4156a464a092f0a47246"
          }
        },
        "f6e913b28bc0429d9ee6aea51e365ef6": {
          "model_module": "@jupyter-widgets/controls",
          "model_name": "HTMLModel",
          "state": {
            "_view_name": "HTMLView",
            "style": "IPY_MODEL_aefb2c531159447589a4d163678f2a14",
            "_dom_classes": [],
            "description": "",
            "_model_name": "HTMLModel",
            "placeholder": "​",
            "_view_module": "@jupyter-widgets/controls",
            "_model_module_version": "1.5.0",
            "value": " 100/100 [00:00&lt;00:00, 143.93epoch/s]",
            "_view_count": null,
            "_view_module_version": "1.5.0",
            "description_tooltip": null,
            "_model_module": "@jupyter-widgets/controls",
            "layout": "IPY_MODEL_e3053c3fb9d74ff880b0cee7556ecc83"
          }
        },
        "ccc3305224c94089b1c4ce503e034d6b": {
          "model_module": "@jupyter-widgets/controls",
          "model_name": "ProgressStyleModel",
          "state": {
            "_view_name": "StyleView",
            "_model_name": "ProgressStyleModel",
            "description_width": "initial",
            "_view_module": "@jupyter-widgets/base",
            "_model_module_version": "1.5.0",
            "_view_count": null,
            "_view_module_version": "1.2.0",
            "bar_color": null,
            "_model_module": "@jupyter-widgets/controls"
          }
        },
        "a69233fb550c4156a464a092f0a47246": {
          "model_module": "@jupyter-widgets/base",
          "model_name": "LayoutModel",
          "state": {
            "_view_name": "LayoutView",
            "grid_template_rows": null,
            "right": null,
            "justify_content": null,
            "_view_module": "@jupyter-widgets/base",
            "overflow": null,
            "_model_module_version": "1.2.0",
            "_view_count": null,
            "flex_flow": null,
            "width": null,
            "min_width": null,
            "border": null,
            "align_items": null,
            "bottom": null,
            "_model_module": "@jupyter-widgets/base",
            "top": null,
            "grid_column": null,
            "overflow_y": null,
            "overflow_x": null,
            "grid_auto_flow": null,
            "grid_area": null,
            "grid_template_columns": null,
            "flex": null,
            "_model_name": "LayoutModel",
            "justify_items": null,
            "grid_row": null,
            "max_height": null,
            "align_content": null,
            "visibility": null,
            "align_self": null,
            "height": null,
            "min_height": null,
            "padding": null,
            "grid_auto_rows": null,
            "grid_gap": null,
            "max_width": null,
            "order": null,
            "_view_module_version": "1.2.0",
            "grid_template_areas": null,
            "object_position": null,
            "object_fit": null,
            "grid_auto_columns": null,
            "margin": null,
            "display": null,
            "left": null
          }
        },
        "aefb2c531159447589a4d163678f2a14": {
          "model_module": "@jupyter-widgets/controls",
          "model_name": "DescriptionStyleModel",
          "state": {
            "_view_name": "StyleView",
            "_model_name": "DescriptionStyleModel",
            "description_width": "",
            "_view_module": "@jupyter-widgets/base",
            "_model_module_version": "1.5.0",
            "_view_count": null,
            "_view_module_version": "1.2.0",
            "_model_module": "@jupyter-widgets/controls"
          }
        },
        "e3053c3fb9d74ff880b0cee7556ecc83": {
          "model_module": "@jupyter-widgets/base",
          "model_name": "LayoutModel",
          "state": {
            "_view_name": "LayoutView",
            "grid_template_rows": null,
            "right": null,
            "justify_content": null,
            "_view_module": "@jupyter-widgets/base",
            "overflow": null,
            "_model_module_version": "1.2.0",
            "_view_count": null,
            "flex_flow": null,
            "width": null,
            "min_width": null,
            "border": null,
            "align_items": null,
            "bottom": null,
            "_model_module": "@jupyter-widgets/base",
            "top": null,
            "grid_column": null,
            "overflow_y": null,
            "overflow_x": null,
            "grid_auto_flow": null,
            "grid_area": null,
            "grid_template_columns": null,
            "flex": null,
            "_model_name": "LayoutModel",
            "justify_items": null,
            "grid_row": null,
            "max_height": null,
            "align_content": null,
            "visibility": null,
            "align_self": null,
            "height": null,
            "min_height": null,
            "padding": null,
            "grid_auto_rows": null,
            "grid_gap": null,
            "max_width": null,
            "order": null,
            "_view_module_version": "1.2.0",
            "grid_template_areas": null,
            "object_position": null,
            "object_fit": null,
            "grid_auto_columns": null,
            "margin": null,
            "display": null,
            "left": null
          }
        },
        "a7be714178b94f0faa893b6b3b4ad700": {
          "model_module": "@jupyter-widgets/controls",
          "model_name": "HBoxModel",
          "state": {
            "_view_name": "HBoxView",
            "_dom_classes": [],
            "_model_name": "HBoxModel",
            "_view_module": "@jupyter-widgets/controls",
            "_model_module_version": "1.5.0",
            "_view_count": null,
            "_view_module_version": "1.5.0",
            "box_style": "",
            "layout": "IPY_MODEL_d29bba38364d4c2d932bdfc28e052582",
            "_model_module": "@jupyter-widgets/controls",
            "children": [
              "IPY_MODEL_92b2b76861fb463d86fb2abefac55fe6",
              "IPY_MODEL_96489f87ff7b4cc39330cacafc2c28ba"
            ]
          }
        },
        "d29bba38364d4c2d932bdfc28e052582": {
          "model_module": "@jupyter-widgets/base",
          "model_name": "LayoutModel",
          "state": {
            "_view_name": "LayoutView",
            "grid_template_rows": null,
            "right": null,
            "justify_content": null,
            "_view_module": "@jupyter-widgets/base",
            "overflow": null,
            "_model_module_version": "1.2.0",
            "_view_count": null,
            "flex_flow": null,
            "width": null,
            "min_width": null,
            "border": null,
            "align_items": null,
            "bottom": null,
            "_model_module": "@jupyter-widgets/base",
            "top": null,
            "grid_column": null,
            "overflow_y": null,
            "overflow_x": null,
            "grid_auto_flow": null,
            "grid_area": null,
            "grid_template_columns": null,
            "flex": null,
            "_model_name": "LayoutModel",
            "justify_items": null,
            "grid_row": null,
            "max_height": null,
            "align_content": null,
            "visibility": null,
            "align_self": null,
            "height": null,
            "min_height": null,
            "padding": null,
            "grid_auto_rows": null,
            "grid_gap": null,
            "max_width": null,
            "order": null,
            "_view_module_version": "1.2.0",
            "grid_template_areas": null,
            "object_position": null,
            "object_fit": null,
            "grid_auto_columns": null,
            "margin": null,
            "display": null,
            "left": null
          }
        },
        "92b2b76861fb463d86fb2abefac55fe6": {
          "model_module": "@jupyter-widgets/controls",
          "model_name": "IntProgressModel",
          "state": {
            "_view_name": "ProgressView",
            "style": "IPY_MODEL_72097408d4de4b78983f925f38430e83",
            "_dom_classes": [],
            "description": "100%",
            "_model_name": "IntProgressModel",
            "bar_style": "success",
            "max": 100,
            "_view_module": "@jupyter-widgets/controls",
            "_model_module_version": "1.5.0",
            "value": 100,
            "_view_count": null,
            "_view_module_version": "1.5.0",
            "orientation": "horizontal",
            "min": 0,
            "description_tooltip": null,
            "_model_module": "@jupyter-widgets/controls",
            "layout": "IPY_MODEL_cb1e9a87b68849e0b9927da3209c91c3"
          }
        },
        "96489f87ff7b4cc39330cacafc2c28ba": {
          "model_module": "@jupyter-widgets/controls",
          "model_name": "HTMLModel",
          "state": {
            "_view_name": "HTMLView",
            "style": "IPY_MODEL_70f3f1fb637f4835ac491b29f7f3af12",
            "_dom_classes": [],
            "description": "",
            "_model_name": "HTMLModel",
            "placeholder": "​",
            "_view_module": "@jupyter-widgets/controls",
            "_model_module_version": "1.5.0",
            "value": " 100/100 [00:00&lt;00:00, 170.97epoch/s]",
            "_view_count": null,
            "_view_module_version": "1.5.0",
            "description_tooltip": null,
            "_model_module": "@jupyter-widgets/controls",
            "layout": "IPY_MODEL_68e979d7b2e44a4fbc75af46c352b701"
          }
        },
        "72097408d4de4b78983f925f38430e83": {
          "model_module": "@jupyter-widgets/controls",
          "model_name": "ProgressStyleModel",
          "state": {
            "_view_name": "StyleView",
            "_model_name": "ProgressStyleModel",
            "description_width": "initial",
            "_view_module": "@jupyter-widgets/base",
            "_model_module_version": "1.5.0",
            "_view_count": null,
            "_view_module_version": "1.2.0",
            "bar_color": null,
            "_model_module": "@jupyter-widgets/controls"
          }
        },
        "cb1e9a87b68849e0b9927da3209c91c3": {
          "model_module": "@jupyter-widgets/base",
          "model_name": "LayoutModel",
          "state": {
            "_view_name": "LayoutView",
            "grid_template_rows": null,
            "right": null,
            "justify_content": null,
            "_view_module": "@jupyter-widgets/base",
            "overflow": null,
            "_model_module_version": "1.2.0",
            "_view_count": null,
            "flex_flow": null,
            "width": null,
            "min_width": null,
            "border": null,
            "align_items": null,
            "bottom": null,
            "_model_module": "@jupyter-widgets/base",
            "top": null,
            "grid_column": null,
            "overflow_y": null,
            "overflow_x": null,
            "grid_auto_flow": null,
            "grid_area": null,
            "grid_template_columns": null,
            "flex": null,
            "_model_name": "LayoutModel",
            "justify_items": null,
            "grid_row": null,
            "max_height": null,
            "align_content": null,
            "visibility": null,
            "align_self": null,
            "height": null,
            "min_height": null,
            "padding": null,
            "grid_auto_rows": null,
            "grid_gap": null,
            "max_width": null,
            "order": null,
            "_view_module_version": "1.2.0",
            "grid_template_areas": null,
            "object_position": null,
            "object_fit": null,
            "grid_auto_columns": null,
            "margin": null,
            "display": null,
            "left": null
          }
        },
        "70f3f1fb637f4835ac491b29f7f3af12": {
          "model_module": "@jupyter-widgets/controls",
          "model_name": "DescriptionStyleModel",
          "state": {
            "_view_name": "StyleView",
            "_model_name": "DescriptionStyleModel",
            "description_width": "",
            "_view_module": "@jupyter-widgets/base",
            "_model_module_version": "1.5.0",
            "_view_count": null,
            "_view_module_version": "1.2.0",
            "_model_module": "@jupyter-widgets/controls"
          }
        },
        "68e979d7b2e44a4fbc75af46c352b701": {
          "model_module": "@jupyter-widgets/base",
          "model_name": "LayoutModel",
          "state": {
            "_view_name": "LayoutView",
            "grid_template_rows": null,
            "right": null,
            "justify_content": null,
            "_view_module": "@jupyter-widgets/base",
            "overflow": null,
            "_model_module_version": "1.2.0",
            "_view_count": null,
            "flex_flow": null,
            "width": null,
            "min_width": null,
            "border": null,
            "align_items": null,
            "bottom": null,
            "_model_module": "@jupyter-widgets/base",
            "top": null,
            "grid_column": null,
            "overflow_y": null,
            "overflow_x": null,
            "grid_auto_flow": null,
            "grid_area": null,
            "grid_template_columns": null,
            "flex": null,
            "_model_name": "LayoutModel",
            "justify_items": null,
            "grid_row": null,
            "max_height": null,
            "align_content": null,
            "visibility": null,
            "align_self": null,
            "height": null,
            "min_height": null,
            "padding": null,
            "grid_auto_rows": null,
            "grid_gap": null,
            "max_width": null,
            "order": null,
            "_view_module_version": "1.2.0",
            "grid_template_areas": null,
            "object_position": null,
            "object_fit": null,
            "grid_auto_columns": null,
            "margin": null,
            "display": null,
            "left": null
          }
        },
        "004b6d5f0ce64873918a1dbc5b473398": {
          "model_module": "@jupyter-widgets/controls",
          "model_name": "HBoxModel",
          "state": {
            "_view_name": "HBoxView",
            "_dom_classes": [],
            "_model_name": "HBoxModel",
            "_view_module": "@jupyter-widgets/controls",
            "_model_module_version": "1.5.0",
            "_view_count": null,
            "_view_module_version": "1.5.0",
            "box_style": "",
            "layout": "IPY_MODEL_b5b30265decc4193b6fadc40334891f7",
            "_model_module": "@jupyter-widgets/controls",
            "children": [
              "IPY_MODEL_4aede94e96db4cc597b156dc236f70db",
              "IPY_MODEL_1fb55edb37d24bdfa4b950628ac87372"
            ]
          }
        },
        "b5b30265decc4193b6fadc40334891f7": {
          "model_module": "@jupyter-widgets/base",
          "model_name": "LayoutModel",
          "state": {
            "_view_name": "LayoutView",
            "grid_template_rows": null,
            "right": null,
            "justify_content": null,
            "_view_module": "@jupyter-widgets/base",
            "overflow": null,
            "_model_module_version": "1.2.0",
            "_view_count": null,
            "flex_flow": null,
            "width": null,
            "min_width": null,
            "border": null,
            "align_items": null,
            "bottom": null,
            "_model_module": "@jupyter-widgets/base",
            "top": null,
            "grid_column": null,
            "overflow_y": null,
            "overflow_x": null,
            "grid_auto_flow": null,
            "grid_area": null,
            "grid_template_columns": null,
            "flex": null,
            "_model_name": "LayoutModel",
            "justify_items": null,
            "grid_row": null,
            "max_height": null,
            "align_content": null,
            "visibility": null,
            "align_self": null,
            "height": null,
            "min_height": null,
            "padding": null,
            "grid_auto_rows": null,
            "grid_gap": null,
            "max_width": null,
            "order": null,
            "_view_module_version": "1.2.0",
            "grid_template_areas": null,
            "object_position": null,
            "object_fit": null,
            "grid_auto_columns": null,
            "margin": null,
            "display": null,
            "left": null
          }
        },
        "4aede94e96db4cc597b156dc236f70db": {
          "model_module": "@jupyter-widgets/controls",
          "model_name": "IntProgressModel",
          "state": {
            "_view_name": "ProgressView",
            "style": "IPY_MODEL_784412e1207c448b96411a1c0f457a67",
            "_dom_classes": [],
            "description": "100%",
            "_model_name": "IntProgressModel",
            "bar_style": "success",
            "max": 65,
            "_view_module": "@jupyter-widgets/controls",
            "_model_module_version": "1.5.0",
            "value": 65,
            "_view_count": null,
            "_view_module_version": "1.5.0",
            "orientation": "horizontal",
            "min": 0,
            "description_tooltip": null,
            "_model_module": "@jupyter-widgets/controls",
            "layout": "IPY_MODEL_0a725cd4f6624f7aaaea03fd4dc5a46a"
          }
        },
        "1fb55edb37d24bdfa4b950628ac87372": {
          "model_module": "@jupyter-widgets/controls",
          "model_name": "HTMLModel",
          "state": {
            "_view_name": "HTMLView",
            "style": "IPY_MODEL_fd0d115a878e4236aecc720f1936c178",
            "_dom_classes": [],
            "description": "",
            "_model_name": "HTMLModel",
            "placeholder": "​",
            "_view_module": "@jupyter-widgets/controls",
            "_model_module_version": "1.5.0",
            "value": " 65/65 [01:34&lt;00:00,  1.46s/it]",
            "_view_count": null,
            "_view_module_version": "1.5.0",
            "description_tooltip": null,
            "_model_module": "@jupyter-widgets/controls",
            "layout": "IPY_MODEL_18b64cb7c7cb447b9ceafd4a7e31f299"
          }
        },
        "784412e1207c448b96411a1c0f457a67": {
          "model_module": "@jupyter-widgets/controls",
          "model_name": "ProgressStyleModel",
          "state": {
            "_view_name": "StyleView",
            "_model_name": "ProgressStyleModel",
            "description_width": "initial",
            "_view_module": "@jupyter-widgets/base",
            "_model_module_version": "1.5.0",
            "_view_count": null,
            "_view_module_version": "1.2.0",
            "bar_color": null,
            "_model_module": "@jupyter-widgets/controls"
          }
        },
        "0a725cd4f6624f7aaaea03fd4dc5a46a": {
          "model_module": "@jupyter-widgets/base",
          "model_name": "LayoutModel",
          "state": {
            "_view_name": "LayoutView",
            "grid_template_rows": null,
            "right": null,
            "justify_content": null,
            "_view_module": "@jupyter-widgets/base",
            "overflow": null,
            "_model_module_version": "1.2.0",
            "_view_count": null,
            "flex_flow": null,
            "width": null,
            "min_width": null,
            "border": null,
            "align_items": null,
            "bottom": null,
            "_model_module": "@jupyter-widgets/base",
            "top": null,
            "grid_column": null,
            "overflow_y": null,
            "overflow_x": null,
            "grid_auto_flow": null,
            "grid_area": null,
            "grid_template_columns": null,
            "flex": null,
            "_model_name": "LayoutModel",
            "justify_items": null,
            "grid_row": null,
            "max_height": null,
            "align_content": null,
            "visibility": null,
            "align_self": null,
            "height": null,
            "min_height": null,
            "padding": null,
            "grid_auto_rows": null,
            "grid_gap": null,
            "max_width": null,
            "order": null,
            "_view_module_version": "1.2.0",
            "grid_template_areas": null,
            "object_position": null,
            "object_fit": null,
            "grid_auto_columns": null,
            "margin": null,
            "display": null,
            "left": null
          }
        },
        "fd0d115a878e4236aecc720f1936c178": {
          "model_module": "@jupyter-widgets/controls",
          "model_name": "DescriptionStyleModel",
          "state": {
            "_view_name": "StyleView",
            "_model_name": "DescriptionStyleModel",
            "description_width": "",
            "_view_module": "@jupyter-widgets/base",
            "_model_module_version": "1.5.0",
            "_view_count": null,
            "_view_module_version": "1.2.0",
            "_model_module": "@jupyter-widgets/controls"
          }
        },
        "18b64cb7c7cb447b9ceafd4a7e31f299": {
          "model_module": "@jupyter-widgets/base",
          "model_name": "LayoutModel",
          "state": {
            "_view_name": "LayoutView",
            "grid_template_rows": null,
            "right": null,
            "justify_content": null,
            "_view_module": "@jupyter-widgets/base",
            "overflow": null,
            "_model_module_version": "1.2.0",
            "_view_count": null,
            "flex_flow": null,
            "width": null,
            "min_width": null,
            "border": null,
            "align_items": null,
            "bottom": null,
            "_model_module": "@jupyter-widgets/base",
            "top": null,
            "grid_column": null,
            "overflow_y": null,
            "overflow_x": null,
            "grid_auto_flow": null,
            "grid_area": null,
            "grid_template_columns": null,
            "flex": null,
            "_model_name": "LayoutModel",
            "justify_items": null,
            "grid_row": null,
            "max_height": null,
            "align_content": null,
            "visibility": null,
            "align_self": null,
            "height": null,
            "min_height": null,
            "padding": null,
            "grid_auto_rows": null,
            "grid_gap": null,
            "max_width": null,
            "order": null,
            "_view_module_version": "1.2.0",
            "grid_template_areas": null,
            "object_position": null,
            "object_fit": null,
            "grid_auto_columns": null,
            "margin": null,
            "display": null,
            "left": null
          }
        }
      }
    }
  },
  "cells": [
    {
      "cell_type": "code",
      "metadata": {
        "id": "zIWxdRzjI1Tc",
        "colab_type": "code",
        "colab": {}
      },
      "source": [
        "import numpy as np\n",
        "import matplotlib.pyplot as plt\n",
        "from sklearn.metrics import accuracy_score\n",
        "from sklearn.metrics import confusion_matrix\n",
        "from sklearn.metrics import mean_squared_error\n",
        "from tqdm import tqdm_notebook\n",
        "import operator\n",
        "import json\n",
        "np.random.seed(0)\n",
        "\n",
        "class MPNeuron:\n",
        "    \n",
        "    def __init__(self):\n",
        "        self.theta = None\n",
        "        \n",
        "    def mp_neuron(self, x):\n",
        "        if sum(x) >= self.theta:\n",
        "            return 1\n",
        "        return 0\n",
        "    \n",
        "    def fit_brute_force(self, X, Y):\n",
        "        accuracy = {}\n",
        "        for theta in tqdm_notebook(range(0, X.shape[1]+1), total=X.shape[1]+1):\n",
        "            self.theta = theta\n",
        "            Y_pred = self.predict(X)\n",
        "            accuracy[theta] = accuracy_score(Y, Y_pred)  \n",
        "            \n",
        "        sorted_accuracy = sorted(accuracy.items(), key=operator.itemgetter(1), reverse=True)\n",
        "        best_theta, best_accuracy = sorted_accuracy[0]\n",
        "        self.theta = best_theta\n",
        "        \n",
        "    def fit(self, X, Y, epochs=10, log=False, display_plot=False):\n",
        "        self.theta = (X.shape[1]+1)//2\n",
        "        if log or display_plot:\n",
        "            accuracy = {}\n",
        "        for i in tqdm_notebook(range(epochs), total=epochs, unit=\"epoch\"):\n",
        "            Y_pred = self.predict(X)\n",
        "            tn, fp, fn, tp = confusion_matrix(Y, Y_pred).ravel()\n",
        "            if fp > fn and self.theta <= X.shape[1]:\n",
        "                self.theta += 1\n",
        "            elif fp < fn and self.theta >= 1:\n",
        "                self.theta -= 1\n",
        "            else:\n",
        "                continue\n",
        "                \n",
        "            if log or display_plot:\n",
        "                Y_pred = self.predict(X)\n",
        "                accuracy[i] = accuracy_score(Y, Y_pred)\n",
        "        if log:\n",
        "            with open('mp_neuron_accuracy.json', 'w') as fp:\n",
        "                json.dump(accuracy, fp)\n",
        "        if display_plot:\n",
        "            epochs_, accuracy_ = zip(*accuracy.items())\n",
        "            plt.plot(epochs_, accuracy_)\n",
        "            plt.xlabel(\"Epochs\")\n",
        "            plt.ylabel(\"Train Accuracy\")\n",
        "            plt.show()\n",
        "    \n",
        "    def predict(self, X):\n",
        "        Y = []\n",
        "        for x in X:\n",
        "            result = self.mp_neuron(x)\n",
        "            Y.append(result)\n",
        "        return np.array(Y)\n",
        "\n",
        "\n",
        "class Perceptron:\n",
        "    \n",
        "    def __init__(self):\n",
        "        self.w = None\n",
        "        self.b = None\n",
        "        \n",
        "    def perceptron(self, x):\n",
        "        return np.sum(self.w * x) + self.b\n",
        "    \n",
        "    def fit(self, X, Y, epochs=10, learning_rate=0.01, log=False, display_plot=False):\n",
        "        # initialise the weights and bias\n",
        "        self.w = np.random.randn(1, X.shape[1])\n",
        "        self.b = 0\n",
        "        if log or display_plot: \n",
        "            accuracy = {}\n",
        "        for i in tqdm_notebook(range(epochs), total=epochs, unit=\"epoch\"):\n",
        "            for x, y in zip(X, Y):\n",
        "                result = self.perceptron(x)\n",
        "                if y == 1 and result < 0:\n",
        "                    self.w += learning_rate*x\n",
        "                    self.b += learning_rate\n",
        "                elif y == 0 and result >= 0:\n",
        "                    self.w -= learning_rate*x\n",
        "                    self.b -= learning_rate\n",
        "            if log or display_plot:\n",
        "                Y_pred = self.predict(X)\n",
        "                accuracy[i] = accuracy_score(Y, Y_pred)\n",
        "        if log:\n",
        "            with open('perceptron_accuracy.json', 'w') as fp:\n",
        "                json.dump(accuracy, fp)\n",
        "        if display_plot:\n",
        "            epochs_, accuracy_ = zip(*accuracy.items())\n",
        "            plt.plot(epochs_, accuracy_)\n",
        "            plt.xlabel(\"Epochs\")\n",
        "            plt.ylabel(\"Train Accuracy\")\n",
        "            plt.show()\n",
        "                    \n",
        "    def predict(self, X):\n",
        "        Y = []\n",
        "        for x in X:\n",
        "            result = self.perceptron(x)\n",
        "            Y.append(int(result>=0))\n",
        "        return np.array(Y)\n",
        "\n",
        "\n",
        "class PerceptronWithSigmoid:\n",
        "    \n",
        "    def __init__(self):\n",
        "        self.w = None\n",
        "        self.b = None\n",
        "        \n",
        "    def perceptron(self, x):\n",
        "        return np.sum(self.w * x) + self.b\n",
        "    \n",
        "    def sigmoid(self, z):\n",
        "        return 1. / (1. + np.exp(-z))\n",
        "    \n",
        "    def grad_w(self, x, y):\n",
        "        y_pred = self.sigmoid(self.perceptron(x))\n",
        "        return (y_pred - y) * y_pred * (1 - y_pred) * x\n",
        "    \n",
        "    def grad_b(self, x, y):\n",
        "        y_pred = self.sigmoid(self.perceptron(x))\n",
        "        return (y_pred - y) * y_pred * (1 - y_pred)\n",
        "    \n",
        "    def fit(self, X, Y, epochs=10, learning_rate=0.01, log=False, display_plot=False):\n",
        "        # initialise the weights and bias\n",
        "        self.w = np.random.randn(1, X.shape[1])\n",
        "        self.b = 0\n",
        "        if log or display_plot: \n",
        "            #accuracy = {}\n",
        "            mse = {}\n",
        "        for i in tqdm_notebook(range(epochs), total=epochs, unit=\"epoch\"):\n",
        "            dw, db = 0, 0\n",
        "            for x, y in zip(X, Y):\n",
        "                dw += self.grad_w(x, y)\n",
        "                db += self.grad_b(x, y)\n",
        "            self.w -= learning_rate*dw\n",
        "            self.b -= learning_rate*db\n",
        "            \n",
        "            if log or display_plot:\n",
        "                Y_pred = self.predict(X)\n",
        "                #Y_binarized = (Y >= SCALED_THRESHOLD).astype(np.int)\n",
        "                #Y_pred_binarized = (Y_pred >= SCALED_THRESHOLD).astype(np.int)\n",
        "                #accuracy[i] = accuracy_score(Y_binarized, Y_pred_binarized)\n",
        "                mse[i] = mean_squared_error(Y, Y_pred)\n",
        "        if log:\n",
        "            #with open('perceptron_with_sigmoid_accuracy.json', 'w') as fp:\n",
        "                #json.dump(accuracy, fp)\n",
        "            with open('perceptron_with_sigmoid_mse.json', 'w') as fp:\n",
        "                json.dump(mse, fp)\n",
        "        if display_plot:\n",
        "            #epochs_, accuracy_ = zip(*accuracy.items())\n",
        "            #plt.plot(epochs_, accuracy_)\n",
        "            #plt.xlabel(\"Epochs\")\n",
        "            #plt.ylabel(\"Train Accuracy\")\n",
        "            #plt.show()\n",
        "            epochs_, mse_ = zip(*mse.items())\n",
        "            plt.plot(epochs_, mse_)\n",
        "            plt.xlabel(\"Epochs\")\n",
        "            plt.ylabel(\"Train Error (MSE)\")\n",
        "            plt.show()\n",
        "            \n",
        "                    \n",
        "    def predict(self, X):\n",
        "        Y = []\n",
        "        for x in X:\n",
        "            result = self.sigmoid(self.perceptron(x))\n",
        "            Y.append(result)\n",
        "        return np.array(Y)\n",
        "\n",
        "\n"
      ],
      "execution_count": 0,
      "outputs": []
    },
    {
      "cell_type": "code",
      "metadata": {
        "id": "ra5ZyGr6I4GJ",
        "colab_type": "code",
        "colab": {}
      },
      "source": [
        "import sklearn\n",
        "digits = sklearn.datasets.load_digits(n_class=2)"
      ],
      "execution_count": 0,
      "outputs": []
    },
    {
      "cell_type": "code",
      "metadata": {
        "id": "dxYnvOhAXFZp",
        "colab_type": "code",
        "colab": {}
      },
      "source": [
        "X = digits.data\n",
        "Y = digits.target"
      ],
      "execution_count": 0,
      "outputs": []
    },
    {
      "cell_type": "code",
      "metadata": {
        "id": "le-Tyv0zXWtp",
        "colab_type": "code",
        "colab": {}
      },
      "source": [
        "from sklearn.model_selection import train_test_split"
      ],
      "execution_count": 0,
      "outputs": []
    },
    {
      "cell_type": "code",
      "metadata": {
        "id": "27bfwtnwYlGw",
        "colab_type": "code",
        "colab": {}
      },
      "source": [
        "X_train, X_test, y_train, y_test = train_test_split(X, Y, test_size=0.30, random_state=42)"
      ],
      "execution_count": 0,
      "outputs": []
    },
    {
      "cell_type": "markdown",
      "metadata": {
        "id": "WY9lxtgZY0Hl",
        "colab_type": "text"
      },
      "source": [
        "#**PERCEPTRON MODEL**"
      ]
    },
    {
      "cell_type": "code",
      "metadata": {
        "id": "T2kEEmmlY-Xl",
        "colab_type": "code",
        "colab": {}
      },
      "source": [
        "pep = Perceptron()"
      ],
      "execution_count": 0,
      "outputs": []
    },
    {
      "cell_type": "code",
      "metadata": {
        "id": "WzJUl5Zt8aMK",
        "colab_type": "code",
        "colab": {
          "base_uri": "https://localhost:8080/",
          "height": 100,
          "referenced_widgets": [
            "82cd0656aa5c448baf9c91e46976beb1",
            "53b29b8cd39d4adfba5233f3f9c51b80",
            "657622f6efd04dcf93d65c6a72d3775a",
            "04601f42709a4310bfb82e040c173f48",
            "d897cc8cad4d47b2bad4552ea515d38f",
            "2aee19e976114aa1b239452787efe4bd",
            "ba412f1e63fd45a0a57df7b7806e286d",
            "6fdd6193b8744565bbe75897077d418a"
          ]
        },
        "outputId": "addccd7e-51ea-4bb4-9b60-a6921369677b"
      },
      "source": [
        "pep.fit(X_train,y_train,learning_rate=0.001,epochs=100)"
      ],
      "execution_count": 80,
      "outputs": [
        {
          "output_type": "stream",
          "text": [
            "/usr/local/lib/python3.6/dist-packages/ipykernel_launcher.py:82: TqdmDeprecationWarning: This function will be removed in tqdm==5.0.0\n",
            "Please use `tqdm.notebook.tqdm` instead of `tqdm.tqdm_notebook`\n"
          ],
          "name": "stderr"
        },
        {
          "output_type": "display_data",
          "data": {
            "application/vnd.jupyter.widget-view+json": {
              "model_id": "82cd0656aa5c448baf9c91e46976beb1",
              "version_minor": 0,
              "version_major": 2
            },
            "text/plain": [
              "HBox(children=(IntProgress(value=0), HTML(value='')))"
            ]
          },
          "metadata": {
            "tags": []
          }
        },
        {
          "output_type": "stream",
          "text": [
            "\n"
          ],
          "name": "stdout"
        }
      ]
    },
    {
      "cell_type": "code",
      "metadata": {
        "id": "6ajRqH0b82_a",
        "colab_type": "code",
        "colab": {}
      },
      "source": [
        "y_hatpep=pep.predict(X_test)"
      ],
      "execution_count": 0,
      "outputs": []
    },
    {
      "cell_type": "code",
      "metadata": {
        "id": "a2r_UOZb9I8J",
        "colab_type": "code",
        "colab": {
          "base_uri": "https://localhost:8080/",
          "height": 34
        },
        "outputId": "4404ea81-a8e3-481d-c6b3-74842a90a2e1"
      },
      "source": [
        "accuracy_score(y_test,y_hatpep)*100"
      ],
      "execution_count": 82,
      "outputs": [
        {
          "output_type": "execute_result",
          "data": {
            "text/plain": [
              "100.0"
            ]
          },
          "metadata": {
            "tags": []
          },
          "execution_count": 82
        }
      ]
    },
    {
      "cell_type": "code",
      "metadata": {
        "id": "W8KVh-mrJldx",
        "colab_type": "code",
        "colab": {
          "base_uri": "https://localhost:8080/",
          "height": 51
        },
        "outputId": "23cd5300-73f9-4929-e5b0-c2f1a2f90d2f"
      },
      "source": [
        "confusion_matrix(y_test,y_hatpep)"
      ],
      "execution_count": 140,
      "outputs": [
        {
          "output_type": "execute_result",
          "data": {
            "text/plain": [
              "array([[56,  0],\n",
              "       [ 0, 52]])"
            ]
          },
          "metadata": {
            "tags": []
          },
          "execution_count": 140
        }
      ]
    },
    {
      "cell_type": "markdown",
      "metadata": {
        "id": "Z8MhTw3N9ijA",
        "colab_type": "text"
      },
      "source": [
        "#**Perceptron with sigmoid**"
      ]
    },
    {
      "cell_type": "code",
      "metadata": {
        "id": "XoGEakVQ9ttX",
        "colab_type": "code",
        "colab": {}
      },
      "source": [
        "pep_sig = PerceptronWithSigmoid()"
      ],
      "execution_count": 0,
      "outputs": []
    },
    {
      "cell_type": "code",
      "metadata": {
        "id": "SmEeGBAt-CGF",
        "colab_type": "code",
        "colab": {
          "base_uri": "https://localhost:8080/",
          "height": 100,
          "referenced_widgets": [
            "808779a7dd644ee1886d95bff5aa93ed",
            "a16d29f4e7e14488a30a5d05b1bfa670",
            "2684086fd4ce49d78f20b8306f0f2e6b",
            "f6e913b28bc0429d9ee6aea51e365ef6",
            "ccc3305224c94089b1c4ce503e034d6b",
            "a69233fb550c4156a464a092f0a47246",
            "aefb2c531159447589a4d163678f2a14",
            "e3053c3fb9d74ff880b0cee7556ecc83"
          ]
        },
        "outputId": "9cf90785-b3f9-43a1-cd9e-7f0a705779d6"
      },
      "source": [
        "pep_sig.fit(X_train,y_train,learning_rate=0.001,epochs=100)"
      ],
      "execution_count": 106,
      "outputs": [
        {
          "output_type": "stream",
          "text": [
            "/usr/local/lib/python3.6/dist-packages/ipykernel_launcher.py:139: TqdmDeprecationWarning: This function will be removed in tqdm==5.0.0\n",
            "Please use `tqdm.notebook.tqdm` instead of `tqdm.tqdm_notebook`\n"
          ],
          "name": "stderr"
        },
        {
          "output_type": "display_data",
          "data": {
            "application/vnd.jupyter.widget-view+json": {
              "model_id": "808779a7dd644ee1886d95bff5aa93ed",
              "version_minor": 0,
              "version_major": 2
            },
            "text/plain": [
              "HBox(children=(IntProgress(value=0), HTML(value='')))"
            ]
          },
          "metadata": {
            "tags": []
          }
        },
        {
          "output_type": "stream",
          "text": [
            "\n"
          ],
          "name": "stdout"
        }
      ]
    },
    {
      "cell_type": "code",
      "metadata": {
        "id": "K0bo06Zr-JkL",
        "colab_type": "code",
        "colab": {}
      },
      "source": [
        "y_hatpep_sig = pep_sig.predict(X_test)"
      ],
      "execution_count": 0,
      "outputs": []
    },
    {
      "cell_type": "code",
      "metadata": {
        "id": "Vge1W9C3HYDn",
        "colab_type": "code",
        "colab": {}
      },
      "source": [
        "y_hatpep_sig[y_hatpep_sig > 1] = 1"
      ],
      "execution_count": 0,
      "outputs": []
    },
    {
      "cell_type": "code",
      "metadata": {
        "id": "I8FEbL81-U6R",
        "colab_type": "code",
        "colab": {
          "base_uri": "https://localhost:8080/",
          "height": 306
        },
        "outputId": "7e4c2830-6a50-46ef-cfac-a0fdc731e2cf"
      },
      "source": [
        "accuracy_score(y_test,y_hatpep_sig)*100"
      ],
      "execution_count": 118,
      "outputs": [
        {
          "output_type": "error",
          "ename": "ValueError",
          "evalue": "ignored",
          "traceback": [
            "\u001b[0;31m---------------------------------------------------------------------------\u001b[0m",
            "\u001b[0;31mValueError\u001b[0m                                Traceback (most recent call last)",
            "\u001b[0;32m<ipython-input-118-e1a1c42253ed>\u001b[0m in \u001b[0;36m<module>\u001b[0;34m()\u001b[0m\n\u001b[0;32m----> 1\u001b[0;31m \u001b[0maccuracy_score\u001b[0m\u001b[0;34m(\u001b[0m\u001b[0my_test\u001b[0m\u001b[0;34m,\u001b[0m\u001b[0my_hatpep_sig\u001b[0m\u001b[0;34m)\u001b[0m\u001b[0;34m*\u001b[0m\u001b[0;36m100\u001b[0m\u001b[0;34m\u001b[0m\u001b[0;34m\u001b[0m\u001b[0m\n\u001b[0m",
            "\u001b[0;32m/usr/local/lib/python3.6/dist-packages/sklearn/metrics/_classification.py\u001b[0m in \u001b[0;36maccuracy_score\u001b[0;34m(y_true, y_pred, normalize, sample_weight)\u001b[0m\n\u001b[1;32m    183\u001b[0m \u001b[0;34m\u001b[0m\u001b[0m\n\u001b[1;32m    184\u001b[0m     \u001b[0;31m# Compute accuracy for each possible representation\u001b[0m\u001b[0;34m\u001b[0m\u001b[0;34m\u001b[0m\u001b[0;34m\u001b[0m\u001b[0m\n\u001b[0;32m--> 185\u001b[0;31m     \u001b[0my_type\u001b[0m\u001b[0;34m,\u001b[0m \u001b[0my_true\u001b[0m\u001b[0;34m,\u001b[0m \u001b[0my_pred\u001b[0m \u001b[0;34m=\u001b[0m \u001b[0m_check_targets\u001b[0m\u001b[0;34m(\u001b[0m\u001b[0my_true\u001b[0m\u001b[0;34m,\u001b[0m \u001b[0my_pred\u001b[0m\u001b[0;34m)\u001b[0m\u001b[0;34m\u001b[0m\u001b[0;34m\u001b[0m\u001b[0m\n\u001b[0m\u001b[1;32m    186\u001b[0m     \u001b[0mcheck_consistent_length\u001b[0m\u001b[0;34m(\u001b[0m\u001b[0my_true\u001b[0m\u001b[0;34m,\u001b[0m \u001b[0my_pred\u001b[0m\u001b[0;34m,\u001b[0m \u001b[0msample_weight\u001b[0m\u001b[0;34m)\u001b[0m\u001b[0;34m\u001b[0m\u001b[0;34m\u001b[0m\u001b[0m\n\u001b[1;32m    187\u001b[0m     \u001b[0;32mif\u001b[0m \u001b[0my_type\u001b[0m\u001b[0;34m.\u001b[0m\u001b[0mstartswith\u001b[0m\u001b[0;34m(\u001b[0m\u001b[0;34m'multilabel'\u001b[0m\u001b[0;34m)\u001b[0m\u001b[0;34m:\u001b[0m\u001b[0;34m\u001b[0m\u001b[0;34m\u001b[0m\u001b[0m\n",
            "\u001b[0;32m/usr/local/lib/python3.6/dist-packages/sklearn/metrics/_classification.py\u001b[0m in \u001b[0;36m_check_targets\u001b[0;34m(y_true, y_pred)\u001b[0m\n\u001b[1;32m     88\u001b[0m     \u001b[0;32mif\u001b[0m \u001b[0mlen\u001b[0m\u001b[0;34m(\u001b[0m\u001b[0my_type\u001b[0m\u001b[0;34m)\u001b[0m \u001b[0;34m>\u001b[0m \u001b[0;36m1\u001b[0m\u001b[0;34m:\u001b[0m\u001b[0;34m\u001b[0m\u001b[0;34m\u001b[0m\u001b[0m\n\u001b[1;32m     89\u001b[0m         raise ValueError(\"Classification metrics can't handle a mix of {0} \"\n\u001b[0;32m---> 90\u001b[0;31m                          \"and {1} targets\".format(type_true, type_pred))\n\u001b[0m\u001b[1;32m     91\u001b[0m \u001b[0;34m\u001b[0m\u001b[0m\n\u001b[1;32m     92\u001b[0m     \u001b[0;31m# We can't have more than one value on y_type => The set is no more needed\u001b[0m\u001b[0;34m\u001b[0m\u001b[0;34m\u001b[0m\u001b[0;34m\u001b[0m\u001b[0m\n",
            "\u001b[0;31mValueError\u001b[0m: Classification metrics can't handle a mix of binary and continuous targets"
          ]
        }
      ]
    },
    {
      "cell_type": "code",
      "metadata": {
        "id": "kd39k6Ts-o0t",
        "colab_type": "code",
        "colab": {
          "base_uri": "https://localhost:8080/",
          "height": 476
        },
        "outputId": "deda8bc1-a902-4ef2-8f61-02a9ce0104cd"
      },
      "source": [
        "y_hatpep_sig"
      ],
      "execution_count": 87,
      "outputs": [
        {
          "output_type": "execute_result",
          "data": {
            "text/plain": [
              "array([9.52162824e-24, 8.63118370e-20, 1.54247736e-21, 3.16771470e-40,\n",
              "       8.95472928e-21, 4.39484207e-27, 2.72901993e-21, 7.64988766e-51,\n",
              "       5.20542736e-28, 1.67379629e-01, 4.93089048e-20, 1.18761965e-38,\n",
              "       8.59362112e-19, 2.79263687e-16, 5.39522690e-15, 2.29225392e-29,\n",
              "       1.00000000e+00, 7.92843518e-22, 2.19073546e-56, 1.14424802e-38,\n",
              "       1.75820837e-16, 2.29392393e-32, 1.32687425e-21, 2.83529208e-30,\n",
              "       2.65868958e-45, 8.34162690e-13, 3.96310090e-25, 1.77261108e-40,\n",
              "       5.73511853e-27, 1.10747849e-10, 9.80258823e-26, 7.59269130e-39,\n",
              "       3.68456698e-23, 6.08753813e-42, 6.50804305e-01, 2.74855870e-56,\n",
              "       7.22189404e-29, 2.52479913e-10, 4.71999954e-32, 1.11497428e-24,\n",
              "       1.12251532e-36, 6.46083034e-17, 2.41035172e-38, 1.14653674e-31,\n",
              "       2.16244235e-14, 8.25144173e-45, 3.09489669e-50, 1.03185915e-54,\n",
              "       1.42581130e-48, 3.23904728e-41, 2.05657381e-38, 3.78718657e-24,\n",
              "       2.86115673e-14, 3.69064525e-12, 9.49273839e-28, 2.08935789e-24,\n",
              "       2.49266297e-63, 2.46936593e-29, 2.44661061e-26, 5.81406056e-40,\n",
              "       2.77491218e-30, 6.95861946e-56, 1.56138215e-17, 4.82958431e-14,\n",
              "       3.27649805e-24, 2.50469587e-18, 3.91281629e-32, 1.00000000e+00,\n",
              "       1.45926395e-17, 1.52202422e-29, 1.00000000e+00, 1.00000000e+00,\n",
              "       3.42730095e-08, 1.92141469e-06, 2.78542570e-25, 4.14729105e-14,\n",
              "       2.40317683e-29, 6.08781565e-17, 3.35878873e-17, 1.16451368e-24,\n",
              "       2.25847389e-25, 6.94529129e-29, 1.00000000e+00, 4.74309373e-50,\n",
              "       1.15778223e-11, 2.23847608e-29, 5.80492751e-26, 3.90876999e-41,\n",
              "       1.00000000e+00, 1.58849772e-26, 7.74106408e-16, 2.41010011e-25,\n",
              "       1.85429613e-40, 7.99220102e-26, 1.29754050e-37, 3.83599988e-20,\n",
              "       1.28769387e-21, 1.81879130e-22, 2.43859142e-53, 1.13472693e-07,\n",
              "       2.68970942e-24, 3.76391357e-29, 9.95192696e-28, 4.79890426e-20,\n",
              "       1.00701514e-26, 5.19632774e-36, 3.61604480e-25, 7.71618184e-16])"
            ]
          },
          "metadata": {
            "tags": []
          },
          "execution_count": 87
        }
      ]
    },
    {
      "cell_type": "code",
      "metadata": {
        "id": "ATZgZ1cN-e-A",
        "colab_type": "code",
        "colab": {}
      },
      "source": [
        ""
      ],
      "execution_count": 0,
      "outputs": []
    },
    {
      "cell_type": "markdown",
      "metadata": {
        "id": "PgA8bhoc_ItE",
        "colab_type": "text"
      },
      "source": [
        "#**MP neuron**"
      ]
    },
    {
      "cell_type": "code",
      "metadata": {
        "id": "uCdXxg1P_OV6",
        "colab_type": "code",
        "colab": {}
      },
      "source": [
        "mp = MPNeuron()"
      ],
      "execution_count": 0,
      "outputs": []
    },
    {
      "cell_type": "code",
      "metadata": {
        "id": "GYNgRRQ2_TTJ",
        "colab_type": "code",
        "colab": {
          "base_uri": "https://localhost:8080/",
          "height": 362,
          "referenced_widgets": [
            "a7be714178b94f0faa893b6b3b4ad700",
            "d29bba38364d4c2d932bdfc28e052582",
            "92b2b76861fb463d86fb2abefac55fe6",
            "96489f87ff7b4cc39330cacafc2c28ba",
            "72097408d4de4b78983f925f38430e83",
            "cb1e9a87b68849e0b9927da3209c91c3",
            "70f3f1fb637f4835ac491b29f7f3af12",
            "68e979d7b2e44a4fbc75af46c352b701"
          ]
        },
        "outputId": "06f8eecf-c71c-4fec-f066-343b7c4fa916"
      },
      "source": [
        "mp.fit(X_train,y_train,epochs=100,display_plot=True)"
      ],
      "execution_count": 97,
      "outputs": [
        {
          "output_type": "stream",
          "text": [
            "/usr/local/lib/python3.6/dist-packages/ipykernel_launcher.py:36: TqdmDeprecationWarning: This function will be removed in tqdm==5.0.0\n",
            "Please use `tqdm.notebook.tqdm` instead of `tqdm.tqdm_notebook`\n"
          ],
          "name": "stderr"
        },
        {
          "output_type": "display_data",
          "data": {
            "application/vnd.jupyter.widget-view+json": {
              "model_id": "a7be714178b94f0faa893b6b3b4ad700",
              "version_minor": 0,
              "version_major": 2
            },
            "text/plain": [
              "HBox(children=(IntProgress(value=0), HTML(value='')))"
            ]
          },
          "metadata": {
            "tags": []
          }
        },
        {
          "output_type": "stream",
          "text": [
            "\n"
          ],
          "name": "stdout"
        },
        {
          "output_type": "display_data",
          "data": {
            "image/png": "[encoded data removed]",
            "text/plain": [
              "<Figure size 432x288 with 1 Axes>"
            ]
          },
          "metadata": {
            "tags": []
          }
        }
      ]
    },
    {
      "cell_type": "code",
      "metadata": {
        "id": "3_AF1bxGB-lQ",
        "colab_type": "code",
        "colab": {}
      },
      "source": [
        "y_hatmp=mp.predict(X_test)"
      ],
      "execution_count": 0,
      "outputs": []
    },
    {
      "cell_type": "code",
      "metadata": {
        "id": "tjdWzW-GCGWy",
        "colab_type": "code",
        "colab": {
          "base_uri": "https://localhost:8080/",
          "height": 34
        },
        "outputId": "ec639903-1ce1-4ad3-f978-7ee3434a87fb"
      },
      "source": [
        "accuracy_score(y_test,y_hatmp)*100"
      ],
      "execution_count": 96,
      "outputs": [
        {
          "output_type": "execute_result",
          "data": {
            "text/plain": [
              "48.148148148148145"
            ]
          },
          "metadata": {
            "tags": []
          },
          "execution_count": 96
        }
      ]
    },
    {
      "cell_type": "code",
      "metadata": {
        "id": "g-Ksw8faCpXr",
        "colab_type": "code",
        "colab": {
          "base_uri": "https://localhost:8080/",
          "height": 100,
          "referenced_widgets": [
            "004b6d5f0ce64873918a1dbc5b473398",
            "b5b30265decc4193b6fadc40334891f7",
            "4aede94e96db4cc597b156dc236f70db",
            "1fb55edb37d24bdfa4b950628ac87372",
            "784412e1207c448b96411a1c0f457a67",
            "0a725cd4f6624f7aaaea03fd4dc5a46a",
            "fd0d115a878e4236aecc720f1936c178",
            "18b64cb7c7cb447b9ceafd4a7e31f299"
          ]
        },
        "outputId": "8c72ef57-5ea8-46b7-9e4a-dc10d5ebb660"
      },
      "source": [
        "mp.fit_brute_force(X_train,y_train)"
      ],
      "execution_count": 101,
      "outputs": [
        {
          "output_type": "stream",
          "text": [
            "/usr/local/lib/python3.6/dist-packages/ipykernel_launcher.py:23: TqdmDeprecationWarning: This function will be removed in tqdm==5.0.0\n",
            "Please use `tqdm.notebook.tqdm` instead of `tqdm.tqdm_notebook`\n"
          ],
          "name": "stderr"
        },
        {
          "output_type": "display_data",
          "data": {
            "application/vnd.jupyter.widget-view+json": {
              "model_id": "004b6d5f0ce64873918a1dbc5b473398",
              "version_minor": 0,
              "version_major": 2
            },
            "text/plain": [
              "HBox(children=(IntProgress(value=0, max=65), HTML(value='')))"
            ]
          },
          "metadata": {
            "tags": []
          }
        },
        {
          "output_type": "stream",
          "text": [
            "\n"
          ],
          "name": "stdout"
        }
      ]
    },
    {
      "cell_type": "code",
      "metadata": {
        "id": "AsA9GDcgCx0s",
        "colab_type": "code",
        "colab": {}
      },
      "source": [
        "y_hatmpbf = mp.predict(X_test)"
      ],
      "execution_count": 0,
      "outputs": []
    },
    {
      "cell_type": "code",
      "metadata": {
        "id": "Z-SgzX3VDNoZ",
        "colab_type": "code",
        "colab": {
          "base_uri": "https://localhost:8080/",
          "height": 34
        },
        "outputId": "c2c21194-f070-48ea-de5d-4bce41a53ba3"
      },
      "source": [
        "accuracy_score(y_test,y_hatmpbf)*100"
      ],
      "execution_count": 142,
      "outputs": [
        {
          "output_type": "execute_result",
          "data": {
            "text/plain": [
              "48.148148148148145"
            ]
          },
          "metadata": {
            "tags": []
          },
          "execution_count": 142
        }
      ]
    },
    {
      "cell_type": "code",
      "metadata": {
        "id": "FPRRDfuNDYaN",
        "colab_type": "code",
        "colab": {
          "base_uri": "https://localhost:8080/",
          "height": 51
        },
        "outputId": "29f2361a-4f50-46d8-d6d6-a320145e9bdd"
      },
      "source": [
        "confusion_matrix(y_test,y_hatmpbf)"
      ],
      "execution_count": 143,
      "outputs": [
        {
          "output_type": "execute_result",
          "data": {
            "text/plain": [
              "array([[ 0, 56],\n",
              "       [ 0, 52]])"
            ]
          },
          "metadata": {
            "tags": []
          },
          "execution_count": 143
        }
      ]
    }
  ]
}