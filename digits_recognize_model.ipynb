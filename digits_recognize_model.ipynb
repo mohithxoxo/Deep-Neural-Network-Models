{
  "nbformat": 4,
  "nbformat_minor": 0,
  "metadata": {
    "colab": {
      "name": "digits_recognize_model",
      "provenance": [],
      "collapsed_sections": [],
      "include_colab_link": true
    },
    "kernelspec": {
      "display_name": "Python 3",
      "name": "python3"
    },
    "accelerator": "GPU"
  },
  "cells": [
    {
      "cell_type": "markdown",
      "metadata": {
        "id": "view-in-github",
        "colab_type": "text"
      },
      "source": [
        "<a href=\"https://colab.research.google.com/github/mohithxoxo/Deep-Neural-Network-Models/blob/master/digits_recognize_model.ipynb\" target=\"_parent\"><img src=\"https://colab.research.google.com/assets/colab-badge.svg\" alt=\"Open In Colab\"/></a>"
      ]
    },
    {
      "cell_type": "code",
      "metadata": {
        "id": "WG8Y6Zthf_EI",
        "colab_type": "code",
        "outputId": "7703fc6d-9600-4353-b53f-7fc1bc212feb",
        "colab": {
          "base_uri": "https://localhost:8080/",
          "height": 34
        }
      },
      "source": [
        "from sklearn import datasets\n",
        "from matplotlib import pyplot as plt\n",
        "from matplotlib import pyplot\n",
        "from sklearn.model_selection import train_test_split\n",
        "import tensorflow as tf\n",
        "import numpy as np\n",
        "import cv2\n",
        "from keras.datasets import mnist"
      ],
      "execution_count": 2,
      "outputs": [
        {
          "output_type": "stream",
          "text": [
            "Using TensorFlow backend.\n"
          ],
          "name": "stderr"
        }
      ]
    },
    {
      "cell_type": "code",
      "metadata": {
        "id": "DMRJJq_lrcjy",
        "colab_type": "code",
        "outputId": "0f1ab772-da08-4d82-9618-50af5b20f7e7",
        "colab": {
          "base_uri": "https://localhost:8080/",
          "height": 353
        }
      },
      "source": [
        "(train_images, train_labels), (test_images, test_labels) = mnist.load_data()\n",
        "train_images,  val_images, train_labels, val_labels = train_test_split(train_images, train_labels, test_size=0.2)\n",
        "print('Train: X=%s, y=%s' % (train_images.shape, train_labels.shape))\n",
        "print('Test: X=%s, y=%s' % (test_images.shape, test_labels.shape))\n",
        "print('Validation: X=%s, y=%s' % (val_images.shape, val_labels.shape))\n",
        "\n",
        "# lets plot few images\n",
        "for i in range(9):\n",
        "\tpyplot.subplot(330 + 1 + i)\n",
        "\tpyplot.imshow(train_images[i], cmap=pyplot.get_cmap('gray'))\n",
        "pyplot.show()\n",
        "\n"
      ],
      "execution_count": 3,
      "outputs": [
        {
          "output_type": "stream",
          "text": [
            "Downloading data from https://s3.amazonaws.com/img-datasets/mnist.npz\n",
            "11493376/11490434 [==============================] - 2s 0us/step\n",
            "Train: X=(48000, 28, 28), y=(48000,)\n",
            "Test: X=(10000, 28, 28), y=(10000,)\n",
            "Validation: X=(12000, 28, 28), y=(12000,)\n"
          ],
          "name": "stdout"
        },
        {
          "output_type": "display_data",
          "data": {
            "image/png": "[encoded data removed]",
            "text/plain": [
              "<Figure size 432x288 with 9 Axes>"
            ]
          },
          "metadata": {
            "tags": [],
            "needs_background": "light"
          }
        }
      ]
    },
    {
      "cell_type": "code",
      "metadata": {
        "id": "oml8LRf_tL9N",
        "colab_type": "code",
        "outputId": "3829946d-fb67-4cab-d67c-9c84a158f3c9",
        "colab": {
          "base_uri": "https://localhost:8080/",
          "height": 68
        }
      },
      "source": [
        "print(train_images.shape)\n",
        "print(test_images.shape)\n",
        "print(val_images.shape)"
      ],
      "execution_count": 4,
      "outputs": [
        {
          "output_type": "stream",
          "text": [
            "(48000, 28, 28)\n",
            "(10000, 28, 28)\n",
            "(12000, 28, 28)\n"
          ],
          "name": "stdout"
        }
      ]
    },
    {
      "cell_type": "code",
      "metadata": {
        "id": "cnsMN46wwVpQ",
        "colab_type": "code",
        "colab": {}
      },
      "source": [
        "train_images = train_images.reshape(train_images.shape[0], 28, 28, 1)\n",
        "test_images = test_images.reshape(test_images.shape[0], 28, 28, 1)\n",
        "val_images = val_images.reshape(val_images.shape[0], 28, 28, 1)"
      ],
      "execution_count": 0,
      "outputs": []
    },
    {
      "cell_type": "code",
      "metadata": {
        "id": "SCJc_hGPwXdv",
        "colab_type": "code",
        "outputId": "67bad598-c380-49c1-82a8-5b522886ef44",
        "colab": {
          "base_uri": "https://localhost:8080/",
          "height": 68
        }
      },
      "source": [
        "print(train_images.shape)\n",
        "print(test_images.shape)\n",
        "print(val_images.shape)"
      ],
      "execution_count": 6,
      "outputs": [
        {
          "output_type": "stream",
          "text": [
            "(48000, 28, 28, 1)\n",
            "(10000, 28, 28, 1)\n",
            "(12000, 28, 28, 1)\n"
          ],
          "name": "stdout"
        }
      ]
    },
    {
      "cell_type": "code",
      "metadata": {
        "id": "BDK6WhZimxzd",
        "colab_type": "code",
        "colab": {}
      },
      "source": [
        "model = tf.keras.models.Sequential([\n",
        "                                    tf.keras.layers.Conv2D(32, (3,3), input_shape=(28, 28, 1),  activation=\"relu\"),\n",
        "                                    tf.keras.layers.MaxPooling2D(2, 2),\n",
        "                                    tf.keras.layers.Dropout(0.5),\n",
        "                                    tf.keras.layers.Conv2D(64, (3,3),  activation=\"relu\"),\n",
        "                                    tf.keras.layers.MaxPooling2D(2, 2),\n",
        "                                    tf.keras.layers.Dropout(0.5),\n",
        "                                    tf.keras.layers.Conv2D(64, (3,3),  activation=\"relu\"),\n",
        "                                    tf.keras.layers.Flatten(),\n",
        "                                    tf.keras.layers.Dense(128, activation=\"relu\"),\n",
        "                                    tf.keras.layers.Dropout(0.5),\n",
        "                                    tf.keras.layers.Dense(10,activation=tf.nn.softmax)\n",
        "])"
      ],
      "execution_count": 0,
      "outputs": []
    },
    {
      "cell_type": "code",
      "metadata": {
        "id": "NkZoBI-XWw07",
        "colab_type": "code",
        "outputId": "8c7e969f-f405-4ad0-fc83-e11427f59452",
        "colab": {
          "base_uri": "https://localhost:8080/",
          "height": 527
        }
      },
      "source": [
        "model.compile(optimizer='adam', \n",
        "              loss='sparse_categorical_crossentropy', \n",
        "              metrics=['accuracy'])\n",
        "model.summary()"
      ],
      "execution_count": 8,
      "outputs": [
        {
          "output_type": "stream",
          "text": [
            "Model: \"sequential\"\n",
            "_________________________________________________________________\n",
            "Layer (type)                 Output Shape              Param #   \n",
            "=================================================================\n",
            "conv2d (Conv2D)              (None, 26, 26, 32)        320       \n",
            "_________________________________________________________________\n",
            "max_pooling2d (MaxPooling2D) (None, 13, 13, 32)        0         \n",
            "_________________________________________________________________\n",
            "dropout (Dropout)            (None, 13, 13, 32)        0         \n",
            "_________________________________________________________________\n",
            "conv2d_1 (Conv2D)            (None, 11, 11, 64)        18496     \n",
            "_________________________________________________________________\n",
            "max_pooling2d_1 (MaxPooling2 (None, 5, 5, 64)          0         \n",
            "_________________________________________________________________\n",
            "dropout_1 (Dropout)          (None, 5, 5, 64)          0         \n",
            "_________________________________________________________________\n",
            "conv2d_2 (Conv2D)            (None, 3, 3, 64)          36928     \n",
            "_________________________________________________________________\n",
            "flatten (Flatten)            (None, 576)               0         \n",
            "_________________________________________________________________\n",
            "dense (Dense)                (None, 128)               73856     \n",
            "_________________________________________________________________\n",
            "dropout_2 (Dropout)          (None, 128)               0         \n",
            "_________________________________________________________________\n",
            "dense_1 (Dense)              (None, 10)                1290      \n",
            "=================================================================\n",
            "Total params: 130,890\n",
            "Trainable params: 130,890\n",
            "Non-trainable params: 0\n",
            "_________________________________________________________________\n"
          ],
          "name": "stdout"
        }
      ]
    },
    {
      "cell_type": "code",
      "metadata": {
        "id": "76ycDG6uxKIY",
        "colab_type": "code",
        "colab": {}
      },
      "source": [
        "#Augmentation\n",
        "datagen = tf.keras.preprocessing.image.ImageDataGenerator(width_shift_range=0.1,\n",
        "                             height_shift_range=0.1,\n",
        "                             zoom_range=0.2,\n",
        "                             shear_range=0.1,\n",
        "                             rotation_range=10)"
      ],
      "execution_count": 0,
      "outputs": []
    },
    {
      "cell_type": "code",
      "metadata": {
        "id": "-6J8TL4LneA2",
        "colab_type": "code",
        "colab": {}
      },
      "source": [
        "class myCallback(tf.keras.callbacks.Callback):\n",
        "    def on_epoch_end(self, epoch, logs={}):\n",
        "        if(logs.get('val_accuracy')>0.99):\n",
        "            print(\"\\nReached 99% accuracy so cancelling training!\")\n",
        "            self.model.stop_training = True"
      ],
      "execution_count": 0,
      "outputs": []
    },
    {
      "cell_type": "code",
      "metadata": {
        "id": "Xzk0aE5UnIm4",
        "colab_type": "code",
        "outputId": "fd9be08b-325e-4f73-ed14-25611aa3e892",
        "colab": {
          "base_uri": "https://localhost:8080/",
          "height": 1000
        }
      },
      "source": [
        "import time\n",
        "start_time = time.time()\n",
        "\n",
        "callbacks = myCallback()\n",
        "history = model.fit(datagen.flow(train_images, train_labels),\n",
        "                              epochs = 30, validation_data = (val_images, val_labels), callbacks = [callbacks])\n",
        "\n",
        "\n",
        "print(\"--- %s seconds to finish training model ---\" % (time.time() - start_time))"
      ],
      "execution_count": 11,
      "outputs": [
        {
          "output_type": "stream",
          "text": [
            "Epoch 1/30\n",
            "1500/1500 [==============================] - 25s 17ms/step - loss: 2.3774 - accuracy: 0.3114 - val_loss: 0.6669 - val_accuracy: 0.8049\n",
            "Epoch 2/30\n",
            "1500/1500 [==============================] - 25s 17ms/step - loss: 0.8785 - accuracy: 0.7144 - val_loss: 0.1936 - val_accuracy: 0.9486\n",
            "Epoch 3/30\n",
            "1500/1500 [==============================] - 25s 17ms/step - loss: 0.5438 - accuracy: 0.8325 - val_loss: 0.1204 - val_accuracy: 0.9653\n",
            "Epoch 4/30\n",
            "1500/1500 [==============================] - 25s 16ms/step - loss: 0.4230 - accuracy: 0.8741 - val_loss: 0.0914 - val_accuracy: 0.9718\n",
            "Epoch 5/30\n",
            "1500/1500 [==============================] - 25s 16ms/step - loss: 0.3624 - accuracy: 0.8928 - val_loss: 0.0859 - val_accuracy: 0.9737\n",
            "Epoch 6/30\n",
            "1500/1500 [==============================] - 25s 17ms/step - loss: 0.3221 - accuracy: 0.9069 - val_loss: 0.0660 - val_accuracy: 0.9794\n",
            "Epoch 7/30\n",
            "1500/1500 [==============================] - 25s 16ms/step - loss: 0.3032 - accuracy: 0.9147 - val_loss: 0.0615 - val_accuracy: 0.9801\n",
            "Epoch 8/30\n",
            "1500/1500 [==============================] - 25s 17ms/step - loss: 0.2783 - accuracy: 0.9187 - val_loss: 0.0651 - val_accuracy: 0.9812\n",
            "Epoch 9/30\n",
            "1500/1500 [==============================] - 25s 17ms/step - loss: 0.2712 - accuracy: 0.9222 - val_loss: 0.0550 - val_accuracy: 0.9825\n",
            "Epoch 10/30\n",
            "1500/1500 [==============================] - 25s 16ms/step - loss: 0.2586 - accuracy: 0.9250 - val_loss: 0.0645 - val_accuracy: 0.9810\n",
            "Epoch 11/30\n",
            "1500/1500 [==============================] - 25s 16ms/step - loss: 0.2557 - accuracy: 0.9269 - val_loss: 0.0546 - val_accuracy: 0.9831\n",
            "Epoch 12/30\n",
            "1500/1500 [==============================] - 25s 16ms/step - loss: 0.2468 - accuracy: 0.9317 - val_loss: 0.0579 - val_accuracy: 0.9838\n",
            "Epoch 13/30\n",
            "1500/1500 [==============================] - 25s 16ms/step - loss: 0.2505 - accuracy: 0.9298 - val_loss: 0.0504 - val_accuracy: 0.9852\n",
            "Epoch 14/30\n",
            "1500/1500 [==============================] - 25s 17ms/step - loss: 0.2410 - accuracy: 0.9324 - val_loss: 0.0555 - val_accuracy: 0.9827\n",
            "Epoch 15/30\n",
            "1500/1500 [==============================] - 25s 16ms/step - loss: 0.2355 - accuracy: 0.9342 - val_loss: 0.0631 - val_accuracy: 0.9822\n",
            "Epoch 16/30\n",
            "1500/1500 [==============================] - 25s 16ms/step - loss: 0.2379 - accuracy: 0.9342 - val_loss: 0.0489 - val_accuracy: 0.9863\n",
            "Epoch 17/30\n",
            "1500/1500 [==============================] - 25s 16ms/step - loss: 0.2340 - accuracy: 0.9361 - val_loss: 0.0618 - val_accuracy: 0.9821\n",
            "Epoch 18/30\n",
            "1500/1500 [==============================] - 25s 17ms/step - loss: 0.2340 - accuracy: 0.9355 - val_loss: 0.0543 - val_accuracy: 0.9841\n",
            "Epoch 19/30\n",
            "1500/1500 [==============================] - 24s 16ms/step - loss: 0.2270 - accuracy: 0.9371 - val_loss: 0.0546 - val_accuracy: 0.9845\n",
            "Epoch 20/30\n",
            "1500/1500 [==============================] - 24s 16ms/step - loss: 0.2286 - accuracy: 0.9372 - val_loss: 0.0570 - val_accuracy: 0.9838\n",
            "Epoch 21/30\n",
            "1500/1500 [==============================] - 24s 16ms/step - loss: 0.2258 - accuracy: 0.9385 - val_loss: 0.0612 - val_accuracy: 0.9850\n",
            "Epoch 22/30\n",
            "1500/1500 [==============================] - 28s 19ms/step - loss: 0.2228 - accuracy: 0.9394 - val_loss: 0.0514 - val_accuracy: 0.9850\n",
            "Epoch 23/30\n",
            "1500/1500 [==============================] - 25s 16ms/step - loss: 0.2267 - accuracy: 0.9387 - val_loss: 0.0521 - val_accuracy: 0.9853\n",
            "Epoch 24/30\n",
            "1500/1500 [==============================] - 24s 16ms/step - loss: 0.2284 - accuracy: 0.9386 - val_loss: 0.0563 - val_accuracy: 0.9842\n",
            "Epoch 25/30\n",
            "1500/1500 [==============================] - 25s 16ms/step - loss: 0.2269 - accuracy: 0.9383 - val_loss: 0.0533 - val_accuracy: 0.9862\n",
            "Epoch 26/30\n",
            "1500/1500 [==============================] - 24s 16ms/step - loss: 0.2167 - accuracy: 0.9417 - val_loss: 0.0501 - val_accuracy: 0.9861\n",
            "Epoch 27/30\n",
            "1500/1500 [==============================] - 24s 16ms/step - loss: 0.2300 - accuracy: 0.9374 - val_loss: 0.0524 - val_accuracy: 0.9852\n",
            "Epoch 28/30\n",
            "1500/1500 [==============================] - 24s 16ms/step - loss: 0.2258 - accuracy: 0.9380 - val_loss: 0.0658 - val_accuracy: 0.9828\n",
            "Epoch 29/30\n",
            "1500/1500 [==============================] - 24s 16ms/step - loss: 0.2154 - accuracy: 0.9423 - val_loss: 0.0564 - val_accuracy: 0.9850\n",
            "Epoch 30/30\n",
            "1500/1500 [==============================] - 25s 16ms/step - loss: 0.2203 - accuracy: 0.9406 - val_loss: 0.0516 - val_accuracy: 0.9853\n",
            "--- 749.1891996860504 seconds to finish training model ---\n"
          ],
          "name": "stdout"
        }
      ]
    },
    {
      "cell_type": "code",
      "metadata": {
        "id": "6ASBhGGjxwm_",
        "colab_type": "code",
        "outputId": "f0ec41ce-2bd7-49e6-b06e-ae6e30fa464d",
        "colab": {
          "base_uri": "https://localhost:8080/",
          "height": 573
        }
      },
      "source": [
        "plt.figure(1)\n",
        "plt.plot(history.history['loss'])\n",
        "plt.plot(history.history['val_loss'])\n",
        "plt.legend(['Training','Validation'])\n",
        "plt.title('Loss')\n",
        "plt.xlabel('epoch')\n",
        "\n",
        "plt.figure(2)\n",
        "plt.plot(history.history['accuracy'])\n",
        "plt.plot(history.history['val_accuracy'])\n",
        "plt.legend(['Training','Validation'])\n",
        "plt.title('Accuracy')\n",
        "plt.xlabel('epoch')\n",
        "plt.show()"
      ],
      "execution_count": 12,
      "outputs": [
        {
          "output_type": "display_data",
          "data": {
            "image/png": "[encoded data removed]",
            "text/plain": [
              "<Figure size 432x288 with 1 Axes>"
            ]
          },
          "metadata": {
            "tags": [],
            "needs_background": "light"
          }
        },
        {
          "output_type": "display_data",
          "data": {
            "image/png": "[encoded data removed]",
            "text/plain": [
              "<Figure size 432x288 with 1 Axes>"
            ]
          },
          "metadata": {
            "tags": [],
            "needs_background": "light"
          }
        }
      ]
    },
    {
      "cell_type": "code",
      "metadata": {
        "id": "m60RqrFClpaW",
        "colab_type": "code",
        "outputId": "7c33fa37-22e5-4049-8703-ed4ba9de8d22",
        "colab": {
          "base_uri": "https://localhost:8080/",
          "height": 68
        }
      },
      "source": [
        "score = model.evaluate(test_images, test_labels, verbose=1)\n",
        "print('Test loss : ', score[0])\n",
        "print('Test Accuracy : ', score[1])"
      ],
      "execution_count": 13,
      "outputs": [
        {
          "output_type": "stream",
          "text": [
            "313/313 [==============================] - 1s 4ms/step - loss: 0.0409 - accuracy: 0.9884\n",
            "Test loss :  0.04085816442966461\n",
            "Test Accuracy :  0.9883999824523926\n"
          ],
          "name": "stdout"
        }
      ]
    },
    {
      "cell_type": "code",
      "metadata": {
        "id": "pyPbnntWlxH-",
        "colab_type": "code",
        "outputId": "1594135c-ed76-45ae-91c2-86870c7dd3e2",
        "colab": {
          "base_uri": "https://localhost:8080/",
          "height": 105
        }
      },
      "source": [
        "model.save('digit_recognizer_model')\n",
        "model.save(\"digit_recognizer_model.h5\")"
      ],
      "execution_count": 14,
      "outputs": [
        {
          "output_type": "stream",
          "text": [
            "WARNING:tensorflow:From /usr/local/lib/python3.6/dist-packages/tensorflow/python/ops/resource_variable_ops.py:1817: calling BaseResourceVariable.__init__ (from tensorflow.python.ops.resource_variable_ops) with constraint is deprecated and will be removed in a future version.\n",
            "Instructions for updating:\n",
            "If using Keras pass *_constraint arguments to layers.\n",
            "INFO:tensorflow:Assets written to: digit_recognizer_model/assets\n"
          ],
          "name": "stdout"
        }
      ]
    },
    {
      "cell_type": "code",
      "metadata": {
        "id": "wErnAolmmmMX",
        "colab_type": "code",
        "colab": {}
      },
      "source": [
        ""
      ],
      "execution_count": 0,
      "outputs": []
    }
  ]
}